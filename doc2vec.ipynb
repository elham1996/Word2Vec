{
  "nbformat": 4,
  "nbformat_minor": 0,
  "metadata": {
    "kernelspec": {
      "display_name": "Python 3",
      "language": "python",
      "name": "python3"
    },
    "language_info": {
      "codemirror_mode": {
        "name": "ipython",
        "version": 3
      },
      "file_extension": ".py",
      "mimetype": "text/x-python",
      "name": "python",
      "nbconvert_exporter": "python",
      "pygments_lexer": "ipython3",
      "version": "3.7.6"
    },
    "colab": {
      "name": "doc2vec.ipynb",
      "provenance": [],
      "collapsed_sections": [],
      "include_colab_link": true
    }
  },
  "cells": [
    {
      "cell_type": "markdown",
      "metadata": {
        "id": "view-in-github",
        "colab_type": "text"
      },
      "source": [
        "<a href=\"https://colab.research.google.com/github/elham1996/Word2Vec/blob/main/doc2vec.ipynb\" target=\"_parent\"><img src=\"https://colab.research.google.com/assets/colab-badge.svg\" alt=\"Open In Colab\"/></a>"
      ]
    },
    {
      "cell_type": "code",
      "metadata": {
        "id": "jx94sdG1w5gC"
      },
      "source": [
        "from __future__ import absolute_import,division,print_function\n",
        "import codecs#encoding,word embedding\n",
        "import glob#find all filenames matching a pattern\n",
        "import logging#log events for libraries\n",
        "import multiprocessing#concurrency\n",
        "import os#dealing with operating system like reading file\n",
        "import pprint#pretty print, human readable\n",
        "import re#regular expression\n",
        "import nltk#natural language toolkit\n",
        "import gensim.models.word2vec as w2v#word2vec\n",
        "import sklearn.manifold#dimensionality reduction\n",
        "import numpy as np#math\n",
        "import matplotlib.pyplot#plotting\n",
        "import pandas as pd#parse dataset\n",
        "import seaborn as sns#visualization\n",
        "from sklearn.decomposition import PCA\n",
        "from nltk.stem import PorterStemmer\n",
        "from nltk.tokenize import sent_tokenize, word_tokenize\n"
      ],
      "execution_count": 1,
      "outputs": []
    },
    {
      "cell_type": "code",
      "metadata": {
        "id": "F46ZFu2dw6HE"
      },
      "source": [
        "logging.basicConfig(format='%(asctime)s : %(levelname)s : %(message)s', level=logging.INFO)\n"
      ],
      "execution_count": 2,
      "outputs": []
    },
    {
      "cell_type": "code",
      "metadata": {
        "colab": {
          "base_uri": "https://localhost:8080/"
        },
        "id": "2C2n_rNZw8vs",
        "outputId": "4858f642-9db8-4b35-908d-9c615f85940e"
      },
      "source": [
        "#process our data\n",
        "#clean data\n",
        "#stopwords like the at a an, unnecesasry\n",
        "#tokenization into sentences, punkt \n",
        "#http://www.nltk.org/\n",
        "nltk.download(\"punkt\")#pretrained tokenizer\n",
        "nltk.download(\"stopwords\")#words like,and,the,an,of,a"
      ],
      "execution_count": 3,
      "outputs": [
        {
          "output_type": "stream",
          "name": "stdout",
          "text": [
            "[nltk_data] Downloading package punkt to /root/nltk_data...\n",
            "[nltk_data]   Unzipping tokenizers/punkt.zip.\n",
            "[nltk_data] Downloading package stopwords to /root/nltk_data...\n",
            "[nltk_data]   Unzipping corpora/stopwords.zip.\n"
          ]
        },
        {
          "output_type": "execute_result",
          "data": {
            "text/plain": [
              "True"
            ]
          },
          "metadata": {},
          "execution_count": 3
        }
      ]
    },
    {
      "cell_type": "code",
      "metadata": {
        "colab": {
          "base_uri": "https://localhost:8080/"
        },
        "id": "y31VyIIJxA6_",
        "outputId": "8c4150e0-3285-44fb-a147-0a1101104fc5"
      },
      "source": [
        "#get the paper names,matching text files\n",
        "doc_filenames = sorted(glob.glob(\"/content/Data/*.txt\"))\n",
        "doc_filenames"
      ],
      "execution_count": 7,
      "outputs": [
        {
          "output_type": "execute_result",
          "data": {
            "text/plain": [
              "['/content/Data/document_10.txt',\n",
              " '/content/Data/document_11.txt',\n",
              " '/content/Data/document_12.txt',\n",
              " '/content/Data/document_13.txt',\n",
              " '/content/Data/document_14.txt',\n",
              " '/content/Data/document_15.txt',\n",
              " '/content/Data/document_16.txt',\n",
              " '/content/Data/document_17.txt',\n",
              " '/content/Data/document_18.txt',\n",
              " '/content/Data/document_19.txt',\n",
              " '/content/Data/document_2.txt',\n",
              " '/content/Data/document_20.txt',\n",
              " '/content/Data/document_3.txt',\n",
              " '/content/Data/document_4.txt',\n",
              " '/content/Data/document_5.txt',\n",
              " '/content/Data/document_6.txt',\n",
              " '/content/Data/document_7.txt',\n",
              " '/content/Data/document_8.txt',\n",
              " '/content/Data/document_9.txt']"
            ]
          },
          "metadata": {},
          "execution_count": 7
        }
      ]
    },
    {
      "cell_type": "code",
      "metadata": {
        "colab": {
          "base_uri": "https://localhost:8080/"
        },
        "id": "JJPgleuIxTzy",
        "outputId": "26f6e9bf-dca1-417a-eb24-7ebd81ad0d68"
      },
      "source": [
        "#step 1 process data\n",
        "#initialize rawunicode , we'll add all text to a big file in memory\n",
        "corpus_raw = u\"\"\n",
        "#for each book, read it, open it un utf 8 format, \n",
        "#add it to the raw corpus\n",
        "for doc in doc_filenames:\n",
        "    print(\"Reading '{0}'...\".format(doc))\n",
        "    with codecs.open(doc, \"r\", \"utf-8\") as docs:\n",
        "        corpus_raw += docs.read()\n",
        "    print(\"Corpus is now {0} characters long\".format(len(corpus_raw)))\n",
        "    print()"
      ],
      "execution_count": 8,
      "outputs": [
        {
          "output_type": "stream",
          "name": "stdout",
          "text": [
            "Reading '/content/Data/document_10.txt'...\n",
            "Corpus is now 1741 characters long\n",
            "\n",
            "Reading '/content/Data/document_11.txt'...\n",
            "Corpus is now 13660 characters long\n",
            "\n",
            "Reading '/content/Data/document_12.txt'...\n",
            "Corpus is now 20698 characters long\n",
            "\n",
            "Reading '/content/Data/document_13.txt'...\n",
            "Corpus is now 23470 characters long\n",
            "\n",
            "Reading '/content/Data/document_14.txt'...\n",
            "Corpus is now 31624 characters long\n",
            "\n",
            "Reading '/content/Data/document_15.txt'...\n",
            "Corpus is now 63077 characters long\n",
            "\n",
            "Reading '/content/Data/document_16.txt'...\n",
            "Corpus is now 73148 characters long\n",
            "\n",
            "Reading '/content/Data/document_17.txt'...\n",
            "Corpus is now 79973 characters long\n",
            "\n",
            "Reading '/content/Data/document_18.txt'...\n",
            "Corpus is now 82098 characters long\n",
            "\n",
            "Reading '/content/Data/document_19.txt'...\n",
            "Corpus is now 177040 characters long\n",
            "\n",
            "Reading '/content/Data/document_2.txt'...\n",
            "Corpus is now 194769 characters long\n",
            "\n",
            "Reading '/content/Data/document_20.txt'...\n",
            "Corpus is now 285904 characters long\n",
            "\n",
            "Reading '/content/Data/document_3.txt'...\n",
            "Corpus is now 287901 characters long\n",
            "\n",
            "Reading '/content/Data/document_4.txt'...\n",
            "Corpus is now 317362 characters long\n",
            "\n",
            "Reading '/content/Data/document_5.txt'...\n",
            "Corpus is now 359566 characters long\n",
            "\n",
            "Reading '/content/Data/document_6.txt'...\n",
            "Corpus is now 416858 characters long\n",
            "\n",
            "Reading '/content/Data/document_7.txt'...\n",
            "Corpus is now 436167 characters long\n",
            "\n",
            "Reading '/content/Data/document_8.txt'...\n",
            "Corpus is now 473728 characters long\n",
            "\n",
            "Reading '/content/Data/document_9.txt'...\n",
            "Corpus is now 475717 characters long\n",
            "\n"
          ]
        }
      ]
    },
    {
      "cell_type": "code",
      "metadata": {
        "id": "f8-iQwJxxe-2"
      },
      "source": [
        "#tokenizastion! saved the trained model here\n",
        "tokenizer = nltk.data.load('tokenizers/punkt/english.pickle')"
      ],
      "execution_count": 9,
      "outputs": []
    },
    {
      "cell_type": "code",
      "metadata": {
        "id": "Wq4QI27rxgsv"
      },
      "source": [
        "#tokenize into sentences\n",
        "raw_sentences = tokenizer.tokenize(corpus_raw)"
      ],
      "execution_count": 10,
      "outputs": []
    },
    {
      "cell_type": "code",
      "metadata": {
        "id": "yVahQLRIxnA7"
      },
      "source": [
        "#convert into list of words\n",
        "#remove unecessary characters, split into words, no hyhens and shit\n",
        "#split into words\n",
        "def sentence_to_wordlist(raw):\n",
        "    clean = re.sub(\"[^a-zA-Z]\",\" \", raw)\n",
        "    words = clean.split()\n",
        "    return words"
      ],
      "execution_count": 11,
      "outputs": []
    },
    {
      "cell_type": "code",
      "metadata": {
        "id": "wyZ6VKLtxp2O"
      },
      "source": [
        "#for each sentece, sentences where each word is tokenized\n",
        "sentences = []\n",
        "for raw_sentence in raw_sentences:\n",
        "    if len(raw_sentence) > 0:\n",
        "        sentences.append(sentence_to_wordlist(raw_sentence))"
      ],
      "execution_count": 12,
      "outputs": []
    },
    {
      "cell_type": "code",
      "metadata": {
        "colab": {
          "base_uri": "https://localhost:8080/"
        },
        "id": "IkY8og_VxrlY",
        "outputId": "eb27111c-5d76-4de9-d298-735f4b669af3"
      },
      "source": [
        "#print an example\n",
        "print(raw_sentences[3])\n",
        "print(sentence_to_wordlist(raw_sentences[5]))"
      ],
      "execution_count": 13,
      "outputs": [
        {
          "output_type": "stream",
          "name": "stdout",
          "text": [
            "QS Enterprises Ltd now operates across two divisions: Queen Square Private Healthcare which works in partnership with The National Hospital for Neurology and Neurosurgery in Queen Square, London, and the Chenies Mews Imaging Centre, a dedicated clinical and research cardiac Magnetic Resonance Scanner (MRI) facility on Chenies Mews, Central London[2]\n",
            "\n",
            "History[edit]\n",
            "QS Enterprises Ltd was formed on 24 September 1984[1] in order to fund the first MRI scanner for the National Hospital for Neurology and Neurosurgery in Queen Square.\n",
            "['Following', 'the', 'creation', 'of', 'the', 'UCLH', 'NHS', 'Trust', 'in', 'QS', 'Enterprises', 'joined', 'forces', 'with', 'the', 'UCLH', 'Charity', 'working', 'as', 'the', 'United', 'Kingdom', 's', 'first', 'health', 'sector', 'social', 'enterprise']\n"
          ]
        }
      ]
    },
    {
      "cell_type": "code",
      "metadata": {
        "colab": {
          "base_uri": "https://localhost:8080/"
        },
        "id": "UTelZFktxuN1",
        "outputId": "eff02c87-7ce8-41fe-e801-d0f83d9e31e5"
      },
      "source": [
        "#count tokens, each one being a sentence\n",
        "token_count = sum([len(sentence) for sentence in sentences])\n",
        "print(\"The book corpus contains {0:,} tokens\".format(token_count))"
      ],
      "execution_count": 14,
      "outputs": [
        {
          "output_type": "stream",
          "name": "stdout",
          "text": [
            "The book corpus contains 73,263 tokens\n"
          ]
        }
      ]
    },
    {
      "cell_type": "code",
      "metadata": {
        "id": "FHTP757GxwRx"
      },
      "source": [
        "#ONCE we have vectors\n",
        "#step 3 - build model\n",
        "#3 main tasks that vectors help with\n",
        "#DISTANCE, SIMILARITY, RANKING\n",
        "\n",
        "# Dimensionality of the resulting word vectors.\n",
        "#more dimensions, more computationally expensive to train\n",
        "#but also more accurate\n",
        "#more dimensions = more generalized\n",
        "num_features = 300\n",
        "# Minimum word count threshold.\n",
        "min_word_count = 3\n",
        "\n",
        "# Number of threads to run in parallel.\n",
        "#more workers, faster we train\n",
        "num_workers = multiprocessing.cpu_count()\n",
        "\n",
        "# Context window length.\n",
        "context_size = 7\n",
        "\n",
        "# Downsample setting for frequent words.\n",
        "#0 - 1e-5 is good for this\n",
        "downsampling = 1e-3\n",
        "\n",
        "# Seed for the RNG, to make the results reproducible.\n",
        "#random number generator\n",
        "#deterministic, good for debugging\n",
        "seed = 1"
      ],
      "execution_count": 15,
      "outputs": []
    },
    {
      "cell_type": "code",
      "metadata": {
        "id": "vgOWf4UexyzZ"
      },
      "source": [
        "thrones2vec = w2v.Word2Vec(\n",
        "    sg=1,\n",
        "    seed=seed,\n",
        "    workers=num_workers,\n",
        "    size=num_features,\n",
        "    min_count=min_word_count,\n",
        "    window=context_size,\n",
        "    sample=downsampling\n",
        ")"
      ],
      "execution_count": 16,
      "outputs": []
    },
    {
      "cell_type": "code",
      "metadata": {
        "colab": {
          "base_uri": "https://localhost:8080/"
        },
        "id": "UMrnHr8Px2ku",
        "outputId": "9d031083-090b-4f0d-a18c-b7700b76001e"
      },
      "source": [
        "thrones2vec.build_vocab(sentences)"
      ],
      "execution_count": 17,
      "outputs": [
        {
          "output_type": "stream",
          "name": "stderr",
          "text": [
            "2021-11-06 10:24:49,128 : INFO : collecting all words and their counts\n",
            "2021-11-06 10:24:49,130 : INFO : PROGRESS: at sentence #0, processed 0 words, keeping 0 word types\n",
            "2021-11-06 10:24:49,159 : INFO : collected 11359 word types from a corpus of 73263 raw words and 3199 sentences\n",
            "2021-11-06 10:24:49,161 : INFO : Loading a fresh vocabulary\n",
            "2021-11-06 10:24:49,264 : INFO : effective_min_count=3 retains 3823 unique words (33% of original 11359, drops 7536)\n",
            "2021-11-06 10:24:49,265 : INFO : effective_min_count=3 leaves 63800 word corpus (87% of original 73263, drops 9463)\n",
            "2021-11-06 10:24:49,283 : INFO : deleting the raw counts dictionary of 11359 items\n",
            "2021-11-06 10:24:49,285 : INFO : sample=0.001 downsamples 37 most-common words\n",
            "2021-11-06 10:24:49,290 : INFO : downsampling leaves estimated 47856 word corpus (75.0% of prior 63800)\n",
            "2021-11-06 10:24:49,305 : INFO : estimated required memory for 3823 words and 300 dimensions: 11086700 bytes\n",
            "2021-11-06 10:24:49,309 : INFO : resetting layer weights\n"
          ]
        }
      ]
    },
    {
      "cell_type": "code",
      "metadata": {
        "colab": {
          "base_uri": "https://localhost:8080/"
        },
        "id": "kWD30GSrx34F",
        "outputId": "62431488-deff-45ff-fb5a-8deec847ea88"
      },
      "source": [
        "print(\"Word2Vec vocabulary length:\", len(thrones2vec.wv.vocab))"
      ],
      "execution_count": 18,
      "outputs": [
        {
          "output_type": "stream",
          "name": "stdout",
          "text": [
            "Word2Vec vocabulary length: 3823\n"
          ]
        }
      ]
    },
    {
      "cell_type": "code",
      "metadata": {
        "colab": {
          "base_uri": "https://localhost:8080/"
        },
        "id": "-G8EHEPlx569",
        "outputId": "9e261e28-550f-4490-9803-9d9455a89291"
      },
      "source": [
        "thrones2vec.train(sentences, total_examples=thrones2vec.corpus_count , epochs=100)"
      ],
      "execution_count": 19,
      "outputs": [
        {
          "output_type": "stream",
          "name": "stderr",
          "text": [
            "2021-11-06 10:25:08,049 : INFO : training model with 2 workers on 3823 vocabulary and 300 features, using sg=1 hs=0 sample=0.001 negative=5 window=7\n",
            "2021-11-06 10:25:08,467 : INFO : worker thread finished; awaiting finish of 1 more threads\n",
            "2021-11-06 10:25:08,520 : INFO : worker thread finished; awaiting finish of 0 more threads\n",
            "2021-11-06 10:25:08,522 : INFO : EPOCH - 1 : training on 73263 raw words (47815 effective words) took 0.5s, 104106 effective words/s\n",
            "2021-11-06 10:25:08,944 : INFO : worker thread finished; awaiting finish of 1 more threads\n",
            "2021-11-06 10:25:08,998 : INFO : worker thread finished; awaiting finish of 0 more threads\n",
            "2021-11-06 10:25:09,000 : INFO : EPOCH - 2 : training on 73263 raw words (47942 effective words) took 0.5s, 102288 effective words/s\n",
            "2021-11-06 10:25:09,423 : INFO : worker thread finished; awaiting finish of 1 more threads\n",
            "2021-11-06 10:25:09,458 : INFO : worker thread finished; awaiting finish of 0 more threads\n",
            "2021-11-06 10:25:09,459 : INFO : EPOCH - 3 : training on 73263 raw words (47823 effective words) took 0.5s, 106054 effective words/s\n",
            "2021-11-06 10:25:09,865 : INFO : worker thread finished; awaiting finish of 1 more threads\n",
            "2021-11-06 10:25:09,915 : INFO : worker thread finished; awaiting finish of 0 more threads\n",
            "2021-11-06 10:25:09,917 : INFO : EPOCH - 4 : training on 73263 raw words (47866 effective words) took 0.4s, 106713 effective words/s\n",
            "2021-11-06 10:25:10,340 : INFO : worker thread finished; awaiting finish of 1 more threads\n",
            "2021-11-06 10:25:10,391 : INFO : worker thread finished; awaiting finish of 0 more threads\n",
            "2021-11-06 10:25:10,393 : INFO : EPOCH - 5 : training on 73263 raw words (48018 effective words) took 0.5s, 103637 effective words/s\n",
            "2021-11-06 10:25:10,809 : INFO : worker thread finished; awaiting finish of 1 more threads\n",
            "2021-11-06 10:25:10,863 : INFO : worker thread finished; awaiting finish of 0 more threads\n",
            "2021-11-06 10:25:10,865 : INFO : EPOCH - 6 : training on 73263 raw words (47923 effective words) took 0.5s, 103641 effective words/s\n",
            "2021-11-06 10:25:11,296 : INFO : worker thread finished; awaiting finish of 1 more threads\n",
            "2021-11-06 10:25:11,349 : INFO : worker thread finished; awaiting finish of 0 more threads\n",
            "2021-11-06 10:25:11,351 : INFO : EPOCH - 7 : training on 73263 raw words (47872 effective words) took 0.5s, 100271 effective words/s\n",
            "2021-11-06 10:25:11,762 : INFO : worker thread finished; awaiting finish of 1 more threads\n",
            "2021-11-06 10:25:11,816 : INFO : worker thread finished; awaiting finish of 0 more threads\n",
            "2021-11-06 10:25:11,818 : INFO : EPOCH - 8 : training on 73263 raw words (47879 effective words) took 0.5s, 104612 effective words/s\n",
            "2021-11-06 10:25:12,233 : INFO : worker thread finished; awaiting finish of 1 more threads\n",
            "2021-11-06 10:25:12,286 : INFO : worker thread finished; awaiting finish of 0 more threads\n",
            "2021-11-06 10:25:12,287 : INFO : EPOCH - 9 : training on 73263 raw words (47768 effective words) took 0.5s, 103593 effective words/s\n",
            "2021-11-06 10:25:12,706 : INFO : worker thread finished; awaiting finish of 1 more threads\n",
            "2021-11-06 10:25:12,757 : INFO : worker thread finished; awaiting finish of 0 more threads\n",
            "2021-11-06 10:25:12,759 : INFO : EPOCH - 10 : training on 73263 raw words (47872 effective words) took 0.5s, 103638 effective words/s\n",
            "2021-11-06 10:25:13,188 : INFO : worker thread finished; awaiting finish of 1 more threads\n",
            "2021-11-06 10:25:13,237 : INFO : worker thread finished; awaiting finish of 0 more threads\n",
            "2021-11-06 10:25:13,238 : INFO : EPOCH - 11 : training on 73263 raw words (47804 effective words) took 0.5s, 102131 effective words/s\n",
            "2021-11-06 10:25:13,638 : INFO : worker thread finished; awaiting finish of 1 more threads\n",
            "2021-11-06 10:25:13,691 : INFO : worker thread finished; awaiting finish of 0 more threads\n",
            "2021-11-06 10:25:13,693 : INFO : EPOCH - 12 : training on 73263 raw words (47830 effective words) took 0.4s, 107329 effective words/s\n",
            "2021-11-06 10:25:14,129 : INFO : worker thread finished; awaiting finish of 1 more threads\n",
            "2021-11-06 10:25:14,166 : INFO : worker thread finished; awaiting finish of 0 more threads\n",
            "2021-11-06 10:25:14,168 : INFO : EPOCH - 13 : training on 73263 raw words (47843 effective words) took 0.5s, 102818 effective words/s\n",
            "2021-11-06 10:25:14,594 : INFO : worker thread finished; awaiting finish of 1 more threads\n",
            "2021-11-06 10:25:14,628 : INFO : worker thread finished; awaiting finish of 0 more threads\n",
            "2021-11-06 10:25:14,630 : INFO : EPOCH - 14 : training on 73263 raw words (47882 effective words) took 0.5s, 105707 effective words/s\n",
            "2021-11-06 10:25:15,038 : INFO : worker thread finished; awaiting finish of 1 more threads\n",
            "2021-11-06 10:25:15,099 : INFO : worker thread finished; awaiting finish of 0 more threads\n",
            "2021-11-06 10:25:15,100 : INFO : EPOCH - 15 : training on 73263 raw words (47725 effective words) took 0.5s, 103245 effective words/s\n",
            "2021-11-06 10:25:15,528 : INFO : worker thread finished; awaiting finish of 1 more threads\n",
            "2021-11-06 10:25:15,572 : INFO : worker thread finished; awaiting finish of 0 more threads\n",
            "2021-11-06 10:25:15,574 : INFO : EPOCH - 16 : training on 73263 raw words (47915 effective words) took 0.5s, 103357 effective words/s\n",
            "2021-11-06 10:25:15,988 : INFO : worker thread finished; awaiting finish of 1 more threads\n",
            "2021-11-06 10:25:16,042 : INFO : worker thread finished; awaiting finish of 0 more threads\n",
            "2021-11-06 10:25:16,043 : INFO : EPOCH - 17 : training on 73263 raw words (47922 effective words) took 0.5s, 104918 effective words/s\n",
            "2021-11-06 10:25:16,462 : INFO : worker thread finished; awaiting finish of 1 more threads\n",
            "2021-11-06 10:25:16,509 : INFO : worker thread finished; awaiting finish of 0 more threads\n",
            "2021-11-06 10:25:16,511 : INFO : EPOCH - 18 : training on 73263 raw words (47905 effective words) took 0.5s, 104376 effective words/s\n",
            "2021-11-06 10:25:16,924 : INFO : worker thread finished; awaiting finish of 1 more threads\n",
            "2021-11-06 10:25:16,973 : INFO : worker thread finished; awaiting finish of 0 more threads\n",
            "2021-11-06 10:25:16,974 : INFO : EPOCH - 19 : training on 73263 raw words (47803 effective words) took 0.5s, 105331 effective words/s\n",
            "2021-11-06 10:25:17,399 : INFO : worker thread finished; awaiting finish of 1 more threads\n",
            "2021-11-06 10:25:17,444 : INFO : worker thread finished; awaiting finish of 0 more threads\n",
            "2021-11-06 10:25:17,447 : INFO : EPOCH - 20 : training on 73263 raw words (47947 effective words) took 0.5s, 103547 effective words/s\n",
            "2021-11-06 10:25:17,854 : INFO : worker thread finished; awaiting finish of 1 more threads\n",
            "2021-11-06 10:25:17,916 : INFO : worker thread finished; awaiting finish of 0 more threads\n",
            "2021-11-06 10:25:17,917 : INFO : EPOCH - 21 : training on 73263 raw words (47956 effective words) took 0.5s, 103918 effective words/s\n",
            "2021-11-06 10:25:18,334 : INFO : worker thread finished; awaiting finish of 1 more threads\n",
            "2021-11-06 10:25:18,386 : INFO : worker thread finished; awaiting finish of 0 more threads\n",
            "2021-11-06 10:25:18,387 : INFO : EPOCH - 22 : training on 73263 raw words (47890 effective words) took 0.5s, 104466 effective words/s\n",
            "2021-11-06 10:25:18,794 : INFO : worker thread finished; awaiting finish of 1 more threads\n",
            "2021-11-06 10:25:18,841 : INFO : worker thread finished; awaiting finish of 0 more threads\n",
            "2021-11-06 10:25:18,843 : INFO : EPOCH - 23 : training on 73263 raw words (47907 effective words) took 0.4s, 107169 effective words/s\n",
            "2021-11-06 10:25:19,262 : INFO : worker thread finished; awaiting finish of 1 more threads\n",
            "2021-11-06 10:25:19,318 : INFO : worker thread finished; awaiting finish of 0 more threads\n",
            "2021-11-06 10:25:19,319 : INFO : EPOCH - 24 : training on 73263 raw words (47885 effective words) took 0.5s, 102968 effective words/s\n",
            "2021-11-06 10:25:19,720 : INFO : worker thread finished; awaiting finish of 1 more threads\n",
            "2021-11-06 10:25:19,772 : INFO : worker thread finished; awaiting finish of 0 more threads\n",
            "2021-11-06 10:25:19,774 : INFO : EPOCH - 25 : training on 73263 raw words (47821 effective words) took 0.4s, 107433 effective words/s\n",
            "2021-11-06 10:25:20,189 : INFO : worker thread finished; awaiting finish of 1 more threads\n",
            "2021-11-06 10:25:20,247 : INFO : worker thread finished; awaiting finish of 0 more threads\n",
            "2021-11-06 10:25:20,249 : INFO : EPOCH - 26 : training on 73263 raw words (47797 effective words) took 0.5s, 103019 effective words/s\n",
            "2021-11-06 10:25:20,652 : INFO : worker thread finished; awaiting finish of 1 more threads\n",
            "2021-11-06 10:25:20,701 : INFO : worker thread finished; awaiting finish of 0 more threads\n",
            "2021-11-06 10:25:20,703 : INFO : EPOCH - 27 : training on 73263 raw words (47876 effective words) took 0.4s, 107682 effective words/s\n",
            "2021-11-06 10:25:21,114 : INFO : worker thread finished; awaiting finish of 1 more threads\n",
            "2021-11-06 10:25:21,168 : INFO : worker thread finished; awaiting finish of 0 more threads\n",
            "2021-11-06 10:25:21,173 : INFO : EPOCH - 28 : training on 73263 raw words (47922 effective words) took 0.5s, 104097 effective words/s\n",
            "2021-11-06 10:25:21,593 : INFO : worker thread finished; awaiting finish of 1 more threads\n",
            "2021-11-06 10:25:21,641 : INFO : worker thread finished; awaiting finish of 0 more threads\n",
            "2021-11-06 10:25:21,643 : INFO : EPOCH - 29 : training on 73263 raw words (47718 effective words) took 0.5s, 103423 effective words/s\n",
            "2021-11-06 10:25:22,043 : INFO : worker thread finished; awaiting finish of 1 more threads\n",
            "2021-11-06 10:25:22,094 : INFO : worker thread finished; awaiting finish of 0 more threads\n",
            "2021-11-06 10:25:22,096 : INFO : EPOCH - 30 : training on 73263 raw words (47686 effective words) took 0.4s, 107564 effective words/s\n",
            "2021-11-06 10:25:22,507 : INFO : worker thread finished; awaiting finish of 1 more threads\n",
            "2021-11-06 10:25:22,544 : INFO : worker thread finished; awaiting finish of 0 more threads\n",
            "2021-11-06 10:25:22,546 : INFO : EPOCH - 31 : training on 73263 raw words (47998 effective words) took 0.4s, 108830 effective words/s\n",
            "2021-11-06 10:25:22,947 : INFO : worker thread finished; awaiting finish of 1 more threads\n",
            "2021-11-06 10:25:22,998 : INFO : worker thread finished; awaiting finish of 0 more threads\n",
            "2021-11-06 10:25:23,001 : INFO : EPOCH - 32 : training on 73263 raw words (47986 effective words) took 0.4s, 107033 effective words/s\n",
            "2021-11-06 10:25:23,410 : INFO : worker thread finished; awaiting finish of 1 more threads\n",
            "2021-11-06 10:25:23,464 : INFO : worker thread finished; awaiting finish of 0 more threads\n",
            "2021-11-06 10:25:23,466 : INFO : EPOCH - 33 : training on 73263 raw words (47943 effective words) took 0.5s, 105097 effective words/s\n",
            "2021-11-06 10:25:23,867 : INFO : worker thread finished; awaiting finish of 1 more threads\n",
            "2021-11-06 10:25:23,915 : INFO : worker thread finished; awaiting finish of 0 more threads\n",
            "2021-11-06 10:25:23,917 : INFO : EPOCH - 34 : training on 73263 raw words (47870 effective words) took 0.4s, 109430 effective words/s\n",
            "2021-11-06 10:25:24,317 : INFO : worker thread finished; awaiting finish of 1 more threads\n",
            "2021-11-06 10:25:24,367 : INFO : worker thread finished; awaiting finish of 0 more threads\n",
            "2021-11-06 10:25:24,370 : INFO : EPOCH - 35 : training on 73263 raw words (47851 effective words) took 0.4s, 108163 effective words/s\n",
            "2021-11-06 10:25:24,771 : INFO : worker thread finished; awaiting finish of 1 more threads\n",
            "2021-11-06 10:25:24,824 : INFO : worker thread finished; awaiting finish of 0 more threads\n",
            "2021-11-06 10:25:24,826 : INFO : EPOCH - 36 : training on 73263 raw words (47935 effective words) took 0.4s, 108320 effective words/s\n",
            "2021-11-06 10:25:25,226 : INFO : worker thread finished; awaiting finish of 1 more threads\n",
            "2021-11-06 10:25:25,267 : INFO : worker thread finished; awaiting finish of 0 more threads\n",
            "2021-11-06 10:25:25,270 : INFO : EPOCH - 37 : training on 73263 raw words (47806 effective words) took 0.4s, 110079 effective words/s\n",
            "2021-11-06 10:25:25,686 : INFO : worker thread finished; awaiting finish of 1 more threads\n",
            "2021-11-06 10:25:25,728 : INFO : worker thread finished; awaiting finish of 0 more threads\n",
            "2021-11-06 10:25:25,730 : INFO : EPOCH - 38 : training on 73263 raw words (47906 effective words) took 0.4s, 107215 effective words/s\n",
            "2021-11-06 10:25:26,125 : INFO : worker thread finished; awaiting finish of 1 more threads\n",
            "2021-11-06 10:25:26,175 : INFO : worker thread finished; awaiting finish of 0 more threads\n",
            "2021-11-06 10:25:26,177 : INFO : EPOCH - 39 : training on 73263 raw words (47862 effective words) took 0.4s, 109970 effective words/s\n",
            "2021-11-06 10:25:26,585 : INFO : worker thread finished; awaiting finish of 1 more threads\n",
            "2021-11-06 10:25:26,630 : INFO : worker thread finished; awaiting finish of 0 more threads\n",
            "2021-11-06 10:25:26,631 : INFO : EPOCH - 40 : training on 73263 raw words (47853 effective words) took 0.4s, 107802 effective words/s\n",
            "2021-11-06 10:25:27,015 : INFO : worker thread finished; awaiting finish of 1 more threads\n",
            "2021-11-06 10:25:27,066 : INFO : worker thread finished; awaiting finish of 0 more threads\n",
            "2021-11-06 10:25:27,067 : INFO : EPOCH - 41 : training on 73263 raw words (47844 effective words) took 0.4s, 112049 effective words/s\n",
            "2021-11-06 10:25:27,469 : INFO : worker thread finished; awaiting finish of 1 more threads\n",
            "2021-11-06 10:25:27,519 : INFO : worker thread finished; awaiting finish of 0 more threads\n",
            "2021-11-06 10:25:27,520 : INFO : EPOCH - 42 : training on 73263 raw words (47736 effective words) took 0.4s, 107652 effective words/s\n",
            "2021-11-06 10:25:27,910 : INFO : worker thread finished; awaiting finish of 1 more threads\n",
            "2021-11-06 10:25:27,959 : INFO : worker thread finished; awaiting finish of 0 more threads\n",
            "2021-11-06 10:25:27,961 : INFO : EPOCH - 43 : training on 73263 raw words (47912 effective words) took 0.4s, 110701 effective words/s\n",
            "2021-11-06 10:25:28,356 : INFO : worker thread finished; awaiting finish of 1 more threads\n",
            "2021-11-06 10:25:28,404 : INFO : worker thread finished; awaiting finish of 0 more threads\n",
            "2021-11-06 10:25:28,405 : INFO : EPOCH - 44 : training on 73263 raw words (47833 effective words) took 0.4s, 110316 effective words/s\n",
            "2021-11-06 10:25:28,804 : INFO : worker thread finished; awaiting finish of 1 more threads\n",
            "2021-11-06 10:25:28,854 : INFO : worker thread finished; awaiting finish of 0 more threads\n",
            "2021-11-06 10:25:28,856 : INFO : EPOCH - 45 : training on 73263 raw words (47826 effective words) took 0.4s, 109322 effective words/s\n",
            "2021-11-06 10:25:29,247 : INFO : worker thread finished; awaiting finish of 1 more threads\n",
            "2021-11-06 10:25:29,295 : INFO : worker thread finished; awaiting finish of 0 more threads\n",
            "2021-11-06 10:25:29,296 : INFO : EPOCH - 46 : training on 73263 raw words (47773 effective words) took 0.4s, 110867 effective words/s\n",
            "2021-11-06 10:25:29,703 : INFO : worker thread finished; awaiting finish of 1 more threads\n",
            "2021-11-06 10:25:29,754 : INFO : worker thread finished; awaiting finish of 0 more threads\n",
            "2021-11-06 10:25:29,755 : INFO : EPOCH - 47 : training on 73263 raw words (47861 effective words) took 0.4s, 107294 effective words/s\n",
            "2021-11-06 10:25:30,142 : INFO : worker thread finished; awaiting finish of 1 more threads\n",
            "2021-11-06 10:25:30,192 : INFO : worker thread finished; awaiting finish of 0 more threads\n",
            "2021-11-06 10:25:30,194 : INFO : EPOCH - 48 : training on 73263 raw words (47877 effective words) took 0.4s, 111761 effective words/s\n",
            "2021-11-06 10:25:30,584 : INFO : worker thread finished; awaiting finish of 1 more threads\n",
            "2021-11-06 10:25:30,633 : INFO : worker thread finished; awaiting finish of 0 more threads\n",
            "2021-11-06 10:25:30,634 : INFO : EPOCH - 49 : training on 73263 raw words (47970 effective words) took 0.4s, 110656 effective words/s\n",
            "2021-11-06 10:25:31,027 : INFO : worker thread finished; awaiting finish of 1 more threads\n",
            "2021-11-06 10:25:31,077 : INFO : worker thread finished; awaiting finish of 0 more threads\n",
            "2021-11-06 10:25:31,079 : INFO : EPOCH - 50 : training on 73263 raw words (47887 effective words) took 0.4s, 109918 effective words/s\n",
            "2021-11-06 10:25:31,476 : INFO : worker thread finished; awaiting finish of 1 more threads\n",
            "2021-11-06 10:25:31,526 : INFO : worker thread finished; awaiting finish of 0 more threads\n",
            "2021-11-06 10:25:31,527 : INFO : EPOCH - 51 : training on 73263 raw words (47874 effective words) took 0.4s, 109516 effective words/s\n",
            "2021-11-06 10:25:31,916 : INFO : worker thread finished; awaiting finish of 1 more threads\n",
            "2021-11-06 10:25:31,970 : INFO : worker thread finished; awaiting finish of 0 more threads\n",
            "2021-11-06 10:25:31,971 : INFO : EPOCH - 52 : training on 73263 raw words (47855 effective words) took 0.4s, 111576 effective words/s\n",
            "2021-11-06 10:25:32,347 : INFO : worker thread finished; awaiting finish of 1 more threads\n",
            "2021-11-06 10:25:32,399 : INFO : worker thread finished; awaiting finish of 0 more threads\n",
            "2021-11-06 10:25:32,400 : INFO : EPOCH - 53 : training on 73263 raw words (47782 effective words) took 0.4s, 114029 effective words/s\n",
            "2021-11-06 10:25:32,801 : INFO : worker thread finished; awaiting finish of 1 more threads\n",
            "2021-11-06 10:25:32,853 : INFO : worker thread finished; awaiting finish of 0 more threads\n",
            "2021-11-06 10:25:32,854 : INFO : EPOCH - 54 : training on 73263 raw words (47851 effective words) took 0.4s, 107639 effective words/s\n",
            "2021-11-06 10:25:33,242 : INFO : worker thread finished; awaiting finish of 1 more threads\n",
            "2021-11-06 10:25:33,292 : INFO : worker thread finished; awaiting finish of 0 more threads\n",
            "2021-11-06 10:25:33,293 : INFO : EPOCH - 55 : training on 73263 raw words (47796 effective words) took 0.4s, 111421 effective words/s\n",
            "2021-11-06 10:25:33,711 : INFO : worker thread finished; awaiting finish of 1 more threads\n",
            "2021-11-06 10:25:33,743 : INFO : worker thread finished; awaiting finish of 0 more threads\n",
            "2021-11-06 10:25:33,746 : INFO : EPOCH - 56 : training on 73263 raw words (47780 effective words) took 0.4s, 108079 effective words/s\n",
            "2021-11-06 10:25:34,150 : INFO : worker thread finished; awaiting finish of 1 more threads\n",
            "2021-11-06 10:25:34,200 : INFO : worker thread finished; awaiting finish of 0 more threads\n",
            "2021-11-06 10:25:34,201 : INFO : EPOCH - 57 : training on 73263 raw words (47927 effective words) took 0.4s, 107720 effective words/s\n",
            "2021-11-06 10:25:34,592 : INFO : worker thread finished; awaiting finish of 1 more threads\n",
            "2021-11-06 10:25:34,638 : INFO : worker thread finished; awaiting finish of 0 more threads\n",
            "2021-11-06 10:25:34,639 : INFO : EPOCH - 58 : training on 73263 raw words (47900 effective words) took 0.4s, 112130 effective words/s\n",
            "2021-11-06 10:25:35,040 : INFO : worker thread finished; awaiting finish of 1 more threads\n",
            "2021-11-06 10:25:35,080 : INFO : worker thread finished; awaiting finish of 0 more threads\n",
            "2021-11-06 10:25:35,082 : INFO : EPOCH - 59 : training on 73263 raw words (47910 effective words) took 0.4s, 110686 effective words/s\n",
            "2021-11-06 10:25:35,471 : INFO : worker thread finished; awaiting finish of 1 more threads\n",
            "2021-11-06 10:25:35,525 : INFO : worker thread finished; awaiting finish of 0 more threads\n",
            "2021-11-06 10:25:35,527 : INFO : EPOCH - 60 : training on 73263 raw words (47887 effective words) took 0.4s, 110144 effective words/s\n",
            "2021-11-06 10:25:35,925 : INFO : worker thread finished; awaiting finish of 1 more threads\n",
            "2021-11-06 10:25:35,963 : INFO : worker thread finished; awaiting finish of 0 more threads\n",
            "2021-11-06 10:25:35,964 : INFO : EPOCH - 61 : training on 73263 raw words (47904 effective words) took 0.4s, 111773 effective words/s\n",
            "2021-11-06 10:25:36,347 : INFO : worker thread finished; awaiting finish of 1 more threads\n",
            "2021-11-06 10:25:36,393 : INFO : worker thread finished; awaiting finish of 0 more threads\n",
            "2021-11-06 10:25:36,394 : INFO : EPOCH - 62 : training on 73263 raw words (47793 effective words) took 0.4s, 113991 effective words/s\n",
            "2021-11-06 10:25:36,788 : INFO : worker thread finished; awaiting finish of 1 more threads\n",
            "2021-11-06 10:25:36,832 : INFO : worker thread finished; awaiting finish of 0 more threads\n",
            "2021-11-06 10:25:36,833 : INFO : EPOCH - 63 : training on 73263 raw words (47801 effective words) took 0.4s, 110999 effective words/s\n",
            "2021-11-06 10:25:37,225 : INFO : worker thread finished; awaiting finish of 1 more threads\n",
            "2021-11-06 10:25:37,269 : INFO : worker thread finished; awaiting finish of 0 more threads\n",
            "2021-11-06 10:25:37,271 : INFO : EPOCH - 64 : training on 73263 raw words (47891 effective words) took 0.4s, 112434 effective words/s\n",
            "2021-11-06 10:25:37,656 : INFO : worker thread finished; awaiting finish of 1 more threads\n",
            "2021-11-06 10:25:37,707 : INFO : worker thread finished; awaiting finish of 0 more threads\n",
            "2021-11-06 10:25:37,709 : INFO : EPOCH - 65 : training on 73263 raw words (47944 effective words) took 0.4s, 111792 effective words/s\n",
            "2021-11-06 10:25:38,095 : INFO : worker thread finished; awaiting finish of 1 more threads\n",
            "2021-11-06 10:25:38,141 : INFO : worker thread finished; awaiting finish of 0 more threads\n",
            "2021-11-06 10:25:38,142 : INFO : EPOCH - 66 : training on 73263 raw words (47882 effective words) took 0.4s, 112732 effective words/s\n",
            "2021-11-06 10:25:38,523 : INFO : worker thread finished; awaiting finish of 1 more threads\n",
            "2021-11-06 10:25:38,581 : INFO : worker thread finished; awaiting finish of 0 more threads\n",
            "2021-11-06 10:25:38,582 : INFO : EPOCH - 67 : training on 73263 raw words (47822 effective words) took 0.4s, 111801 effective words/s\n",
            "2021-11-06 10:25:38,969 : INFO : worker thread finished; awaiting finish of 1 more threads\n",
            "2021-11-06 10:25:39,016 : INFO : worker thread finished; awaiting finish of 0 more threads\n",
            "2021-11-06 10:25:39,019 : INFO : EPOCH - 68 : training on 73263 raw words (47913 effective words) took 0.4s, 111960 effective words/s\n",
            "2021-11-06 10:25:39,400 : INFO : worker thread finished; awaiting finish of 1 more threads\n",
            "2021-11-06 10:25:39,448 : INFO : worker thread finished; awaiting finish of 0 more threads\n",
            "2021-11-06 10:25:39,452 : INFO : EPOCH - 69 : training on 73263 raw words (47846 effective words) took 0.4s, 112684 effective words/s\n",
            "2021-11-06 10:25:39,854 : INFO : worker thread finished; awaiting finish of 1 more threads\n",
            "2021-11-06 10:25:39,896 : INFO : worker thread finished; awaiting finish of 0 more threads\n",
            "2021-11-06 10:25:39,899 : INFO : EPOCH - 70 : training on 73263 raw words (47860 effective words) took 0.4s, 109034 effective words/s\n",
            "2021-11-06 10:25:40,281 : INFO : worker thread finished; awaiting finish of 1 more threads\n",
            "2021-11-06 10:25:40,330 : INFO : worker thread finished; awaiting finish of 0 more threads\n",
            "2021-11-06 10:25:40,332 : INFO : EPOCH - 71 : training on 73263 raw words (47917 effective words) took 0.4s, 112422 effective words/s\n",
            "2021-11-06 10:25:40,718 : INFO : worker thread finished; awaiting finish of 1 more threads\n",
            "2021-11-06 10:25:40,764 : INFO : worker thread finished; awaiting finish of 0 more threads\n",
            "2021-11-06 10:25:40,766 : INFO : EPOCH - 72 : training on 73263 raw words (47978 effective words) took 0.4s, 112262 effective words/s\n",
            "2021-11-06 10:25:41,160 : INFO : worker thread finished; awaiting finish of 1 more threads\n",
            "2021-11-06 10:25:41,210 : INFO : worker thread finished; awaiting finish of 0 more threads\n",
            "2021-11-06 10:25:41,211 : INFO : EPOCH - 73 : training on 73263 raw words (48005 effective words) took 0.4s, 110832 effective words/s\n",
            "2021-11-06 10:25:41,603 : INFO : worker thread finished; awaiting finish of 1 more threads\n",
            "2021-11-06 10:25:41,647 : INFO : worker thread finished; awaiting finish of 0 more threads\n",
            "2021-11-06 10:25:41,648 : INFO : EPOCH - 74 : training on 73263 raw words (47980 effective words) took 0.4s, 112634 effective words/s\n",
            "2021-11-06 10:25:42,023 : INFO : worker thread finished; awaiting finish of 1 more threads\n",
            "2021-11-06 10:25:42,075 : INFO : worker thread finished; awaiting finish of 0 more threads\n",
            "2021-11-06 10:25:42,076 : INFO : EPOCH - 75 : training on 73263 raw words (47863 effective words) took 0.4s, 114236 effective words/s\n",
            "2021-11-06 10:25:42,450 : INFO : worker thread finished; awaiting finish of 1 more threads\n",
            "2021-11-06 10:25:42,503 : INFO : worker thread finished; awaiting finish of 0 more threads\n",
            "2021-11-06 10:25:42,504 : INFO : EPOCH - 76 : training on 73263 raw words (47830 effective words) took 0.4s, 114198 effective words/s\n",
            "2021-11-06 10:25:42,903 : INFO : worker thread finished; awaiting finish of 1 more threads\n",
            "2021-11-06 10:25:42,942 : INFO : worker thread finished; awaiting finish of 0 more threads\n",
            "2021-11-06 10:25:42,945 : INFO : EPOCH - 77 : training on 73263 raw words (47729 effective words) took 0.4s, 111610 effective words/s\n",
            "2021-11-06 10:25:43,337 : INFO : worker thread finished; awaiting finish of 1 more threads\n",
            "2021-11-06 10:25:43,389 : INFO : worker thread finished; awaiting finish of 0 more threads\n",
            "2021-11-06 10:25:43,391 : INFO : EPOCH - 78 : training on 73263 raw words (47827 effective words) took 0.4s, 109276 effective words/s\n",
            "2021-11-06 10:25:43,781 : INFO : worker thread finished; awaiting finish of 1 more threads\n",
            "2021-11-06 10:25:43,831 : INFO : worker thread finished; awaiting finish of 0 more threads\n",
            "2021-11-06 10:25:43,832 : INFO : EPOCH - 79 : training on 73263 raw words (47853 effective words) took 0.4s, 111908 effective words/s\n",
            "2021-11-06 10:25:44,224 : INFO : worker thread finished; awaiting finish of 1 more threads\n",
            "2021-11-06 10:25:44,278 : INFO : worker thread finished; awaiting finish of 0 more threads\n",
            "2021-11-06 10:25:44,280 : INFO : EPOCH - 80 : training on 73263 raw words (47882 effective words) took 0.4s, 108819 effective words/s\n",
            "2021-11-06 10:25:44,673 : INFO : worker thread finished; awaiting finish of 1 more threads\n",
            "2021-11-06 10:25:44,725 : INFO : worker thread finished; awaiting finish of 0 more threads\n",
            "2021-11-06 10:25:44,727 : INFO : EPOCH - 81 : training on 73263 raw words (47845 effective words) took 0.4s, 110054 effective words/s\n",
            "2021-11-06 10:25:45,105 : INFO : worker thread finished; awaiting finish of 1 more threads\n",
            "2021-11-06 10:25:45,154 : INFO : worker thread finished; awaiting finish of 0 more threads\n",
            "2021-11-06 10:25:45,156 : INFO : EPOCH - 82 : training on 73263 raw words (47866 effective words) took 0.4s, 113366 effective words/s\n",
            "2021-11-06 10:25:45,530 : INFO : worker thread finished; awaiting finish of 1 more threads\n",
            "2021-11-06 10:25:45,579 : INFO : worker thread finished; awaiting finish of 0 more threads\n",
            "2021-11-06 10:25:45,581 : INFO : EPOCH - 83 : training on 73263 raw words (47872 effective words) took 0.4s, 115287 effective words/s\n",
            "2021-11-06 10:25:45,967 : INFO : worker thread finished; awaiting finish of 1 more threads\n",
            "2021-11-06 10:25:46,015 : INFO : worker thread finished; awaiting finish of 0 more threads\n",
            "2021-11-06 10:25:46,017 : INFO : EPOCH - 84 : training on 73263 raw words (47931 effective words) took 0.4s, 112375 effective words/s\n",
            "2021-11-06 10:25:46,402 : INFO : worker thread finished; awaiting finish of 1 more threads\n",
            "2021-11-06 10:25:46,453 : INFO : worker thread finished; awaiting finish of 0 more threads\n",
            "2021-11-06 10:25:46,454 : INFO : EPOCH - 85 : training on 73263 raw words (47813 effective words) took 0.4s, 112400 effective words/s\n",
            "2021-11-06 10:25:46,844 : INFO : worker thread finished; awaiting finish of 1 more threads\n",
            "2021-11-06 10:25:46,886 : INFO : worker thread finished; awaiting finish of 0 more threads\n",
            "2021-11-06 10:25:46,887 : INFO : EPOCH - 86 : training on 73263 raw words (47785 effective words) took 0.4s, 113336 effective words/s\n",
            "2021-11-06 10:25:47,263 : INFO : worker thread finished; awaiting finish of 1 more threads\n",
            "2021-11-06 10:25:47,311 : INFO : worker thread finished; awaiting finish of 0 more threads\n",
            "2021-11-06 10:25:47,312 : INFO : EPOCH - 87 : training on 73263 raw words (47796 effective words) took 0.4s, 115217 effective words/s\n",
            "2021-11-06 10:25:47,693 : INFO : worker thread finished; awaiting finish of 1 more threads\n",
            "2021-11-06 10:25:47,752 : INFO : worker thread finished; awaiting finish of 0 more threads\n",
            "2021-11-06 10:25:47,753 : INFO : EPOCH - 88 : training on 73263 raw words (47895 effective words) took 0.4s, 112493 effective words/s\n",
            "2021-11-06 10:25:48,140 : INFO : worker thread finished; awaiting finish of 1 more threads\n",
            "2021-11-06 10:25:48,190 : INFO : worker thread finished; awaiting finish of 0 more threads\n",
            "2021-11-06 10:25:48,192 : INFO : EPOCH - 89 : training on 73263 raw words (47875 effective words) took 0.4s, 113368 effective words/s\n",
            "2021-11-06 10:25:48,583 : INFO : worker thread finished; awaiting finish of 1 more threads\n",
            "2021-11-06 10:25:48,624 : INFO : worker thread finished; awaiting finish of 0 more threads\n",
            "2021-11-06 10:25:48,626 : INFO : EPOCH - 90 : training on 73263 raw words (47846 effective words) took 0.4s, 112833 effective words/s\n",
            "2021-11-06 10:25:49,011 : INFO : worker thread finished; awaiting finish of 1 more threads\n",
            "2021-11-06 10:25:49,057 : INFO : worker thread finished; awaiting finish of 0 more threads\n",
            "2021-11-06 10:25:49,058 : INFO : EPOCH - 91 : training on 73263 raw words (47628 effective words) took 0.4s, 112873 effective words/s\n",
            "2021-11-06 10:25:49,431 : INFO : worker thread finished; awaiting finish of 1 more threads\n",
            "2021-11-06 10:25:49,482 : INFO : worker thread finished; awaiting finish of 0 more threads\n",
            "2021-11-06 10:25:49,484 : INFO : EPOCH - 92 : training on 73263 raw words (47832 effective words) took 0.4s, 115035 effective words/s\n",
            "2021-11-06 10:25:49,876 : INFO : worker thread finished; awaiting finish of 1 more threads\n",
            "2021-11-06 10:25:49,922 : INFO : worker thread finished; awaiting finish of 0 more threads\n",
            "2021-11-06 10:25:49,923 : INFO : EPOCH - 93 : training on 73263 raw words (47886 effective words) took 0.4s, 111800 effective words/s\n",
            "2021-11-06 10:25:50,301 : INFO : worker thread finished; awaiting finish of 1 more threads\n",
            "2021-11-06 10:25:50,353 : INFO : worker thread finished; awaiting finish of 0 more threads\n",
            "2021-11-06 10:25:50,354 : INFO : EPOCH - 94 : training on 73263 raw words (47952 effective words) took 0.4s, 113474 effective words/s\n",
            "2021-11-06 10:25:50,738 : INFO : worker thread finished; awaiting finish of 1 more threads\n",
            "2021-11-06 10:25:50,795 : INFO : worker thread finished; awaiting finish of 0 more threads\n",
            "2021-11-06 10:25:50,796 : INFO : EPOCH - 95 : training on 73263 raw words (47909 effective words) took 0.4s, 110964 effective words/s\n",
            "2021-11-06 10:25:51,193 : INFO : worker thread finished; awaiting finish of 1 more threads\n",
            "2021-11-06 10:25:51,236 : INFO : worker thread finished; awaiting finish of 0 more threads\n",
            "2021-11-06 10:25:51,237 : INFO : EPOCH - 96 : training on 73263 raw words (47945 effective words) took 0.4s, 110918 effective words/s\n",
            "2021-11-06 10:25:51,609 : INFO : worker thread finished; awaiting finish of 1 more threads\n",
            "2021-11-06 10:25:51,657 : INFO : worker thread finished; awaiting finish of 0 more threads\n",
            "2021-11-06 10:25:51,659 : INFO : EPOCH - 97 : training on 73263 raw words (47891 effective words) took 0.4s, 116121 effective words/s\n",
            "2021-11-06 10:25:52,052 : INFO : worker thread finished; awaiting finish of 1 more threads\n",
            "2021-11-06 10:25:52,098 : INFO : worker thread finished; awaiting finish of 0 more threads\n",
            "2021-11-06 10:25:52,099 : INFO : EPOCH - 98 : training on 73263 raw words (47960 effective words) took 0.4s, 111761 effective words/s\n",
            "2021-11-06 10:25:52,476 : INFO : worker thread finished; awaiting finish of 1 more threads\n",
            "2021-11-06 10:25:52,525 : INFO : worker thread finished; awaiting finish of 0 more threads\n",
            "2021-11-06 10:25:52,527 : INFO : EPOCH - 99 : training on 73263 raw words (47856 effective words) took 0.4s, 114747 effective words/s\n",
            "2021-11-06 10:25:52,913 : INFO : worker thread finished; awaiting finish of 1 more threads\n",
            "2021-11-06 10:25:52,961 : INFO : worker thread finished; awaiting finish of 0 more threads\n",
            "2021-11-06 10:25:52,963 : INFO : EPOCH - 100 : training on 73263 raw words (47858 effective words) took 0.4s, 112282 effective words/s\n",
            "2021-11-06 10:25:52,965 : INFO : training on a 7326300 raw words (4786664 effective words) took 44.9s, 106579 effective words/s\n"
          ]
        },
        {
          "output_type": "execute_result",
          "data": {
            "text/plain": [
              "(4786664, 7326300)"
            ]
          },
          "metadata": {},
          "execution_count": 19
        }
      ]
    },
    {
      "cell_type": "code",
      "metadata": {
        "id": "ztnlMW2Lx7st"
      },
      "source": [
        "#save model\n",
        "if not os.path.exists(os.path.join(\"trained\",'sample')):\n",
        "    os.makedirs(os.path.join(\"trained\",'sample'))"
      ],
      "execution_count": 20,
      "outputs": []
    },
    {
      "cell_type": "code",
      "metadata": {
        "colab": {
          "base_uri": "https://localhost:8080/"
        },
        "id": "Ic2osATAyF56",
        "outputId": "625a1f81-02a3-42c8-f4f3-9993b95e2e03"
      },
      "source": [
        "thrones2vec.save(os.path.join(\"trained\", \"thrones2vec.w2v\"))"
      ],
      "execution_count": 21,
      "outputs": [
        {
          "output_type": "stream",
          "name": "stderr",
          "text": [
            "2021-11-06 10:25:57,122 : INFO : saving Word2Vec object under trained/thrones2vec.w2v, separately None\n",
            "2021-11-06 10:25:57,126 : INFO : not storing attribute vectors_norm\n",
            "2021-11-06 10:25:57,130 : INFO : not storing attribute cum_table\n",
            "2021-11-06 10:25:57,243 : INFO : saved trained/thrones2vec.w2v\n"
          ]
        }
      ]
    },
    {
      "cell_type": "code",
      "metadata": {
        "colab": {
          "base_uri": "https://localhost:8080/"
        },
        "id": "eotU8RN3yH-V",
        "outputId": "ac3b56ff-319a-4104-c0b9-238ffb3ded91"
      },
      "source": [
        "#load model\n",
        "thrones2vec = w2v.Word2Vec.load(os.path.join(\"trained\", \"thrones2vec.w2v\"))"
      ],
      "execution_count": 22,
      "outputs": [
        {
          "output_type": "stream",
          "name": "stderr",
          "text": [
            "2021-11-06 10:26:13,643 : INFO : loading Word2Vec object from trained/thrones2vec.w2v\n",
            "2021-11-06 10:26:13,736 : INFO : loading wv recursively from trained/thrones2vec.w2v.wv.* with mmap=None\n",
            "2021-11-06 10:26:13,738 : INFO : setting ignored attribute vectors_norm to None\n",
            "2021-11-06 10:26:13,741 : INFO : loading vocabulary recursively from trained/thrones2vec.w2v.vocabulary.* with mmap=None\n",
            "2021-11-06 10:26:13,743 : INFO : loading trainables recursively from trained/thrones2vec.w2v.trainables.* with mmap=None\n",
            "2021-11-06 10:26:13,746 : INFO : setting ignored attribute cum_table to None\n",
            "2021-11-06 10:26:13,748 : INFO : loaded trained/thrones2vec.w2v\n"
          ]
        }
      ]
    },
    {
      "cell_type": "code",
      "metadata": {
        "id": "5fjCZbwdyLx2"
      },
      "source": [
        "#squash dimensionality to 2,,t-SNE is a tool for data visualization\n",
        "from sklearn.preprocessing import StandardScaler\n",
        "tsne = sklearn.manifold.TSNE(n_components=2, random_state=0)"
      ],
      "execution_count": 23,
      "outputs": []
    },
    {
      "cell_type": "code",
      "metadata": {
        "id": "YCAkKhKxyNvu"
      },
      "source": [
        "#put it all into a big matrix\n",
        "all_word_vectors_matrix = thrones2vec.wv.vectors"
      ],
      "execution_count": 24,
      "outputs": []
    },
    {
      "cell_type": "code",
      "metadata": {
        "id": "6wah4VIyyN1o"
      },
      "source": [
        "#train t sne\n",
        "all_word_vectors_matrix_2d = tsne.fit_transform(all_word_vectors_matrix)"
      ],
      "execution_count": 25,
      "outputs": []
    },
    {
      "cell_type": "code",
      "metadata": {
        "id": "QcCDY36vyRyK"
      },
      "source": [
        "#plot point in 2d space\n",
        "points = pd.DataFrame(\n",
        "    [ \n",
        "        (word, coords[0], coords[1])\n",
        "        for word, coords in [\n",
        "            (word, all_word_vectors_matrix_2d[thrones2vec.wv.vocab[word].index])\n",
        "            for word in thrones2vec.wv.vocab\n",
        "        ]\n",
        "    ],\n",
        "    columns=[\"word\", \"x\", \"y\"]\n",
        ")"
      ],
      "execution_count": 26,
      "outputs": []
    },
    {
      "cell_type": "code",
      "metadata": {
        "colab": {
          "base_uri": "https://localhost:8080/",
          "height": 423
        },
        "id": "4eyHoPGHyTfC",
        "outputId": "5e30a260-95ad-4a1d-aea4-6e67be3510f1"
      },
      "source": [
        "points.head(1000)"
      ],
      "execution_count": 27,
      "outputs": [
        {
          "output_type": "execute_result",
          "data": {
            "text/html": [
              "<div>\n",
              "<style scoped>\n",
              "    .dataframe tbody tr th:only-of-type {\n",
              "        vertical-align: middle;\n",
              "    }\n",
              "\n",
              "    .dataframe tbody tr th {\n",
              "        vertical-align: top;\n",
              "    }\n",
              "\n",
              "    .dataframe thead th {\n",
              "        text-align: right;\n",
              "    }\n",
              "</style>\n",
              "<table border=\"1\" class=\"dataframe\">\n",
              "  <thead>\n",
              "    <tr style=\"text-align: right;\">\n",
              "      <th></th>\n",
              "      <th>word</th>\n",
              "      <th>x</th>\n",
              "      <th>y</th>\n",
              "    </tr>\n",
              "  </thead>\n",
              "  <tbody>\n",
              "    <tr>\n",
              "      <th>0</th>\n",
              "      <td>QS</td>\n",
              "      <td>-23.281115</td>\n",
              "      <td>25.232203</td>\n",
              "    </tr>\n",
              "    <tr>\n",
              "      <th>1</th>\n",
              "      <td>Enterprises</td>\n",
              "      <td>-23.320431</td>\n",
              "      <td>25.250465</td>\n",
              "    </tr>\n",
              "    <tr>\n",
              "      <th>2</th>\n",
              "      <td>Ltd</td>\n",
              "      <td>-23.453808</td>\n",
              "      <td>25.307230</td>\n",
              "    </tr>\n",
              "    <tr>\n",
              "      <th>3</th>\n",
              "      <td>From</td>\n",
              "      <td>-24.552422</td>\n",
              "      <td>47.910664</td>\n",
              "    </tr>\n",
              "    <tr>\n",
              "      <th>4</th>\n",
              "      <td>Wikipedia</td>\n",
              "      <td>-24.676220</td>\n",
              "      <td>48.183498</td>\n",
              "    </tr>\n",
              "    <tr>\n",
              "      <th>...</th>\n",
              "      <td>...</td>\n",
              "      <td>...</td>\n",
              "      <td>...</td>\n",
              "    </tr>\n",
              "    <tr>\n",
              "      <th>995</th>\n",
              "      <td>adequate</td>\n",
              "      <td>25.522812</td>\n",
              "      <td>-18.446062</td>\n",
              "    </tr>\n",
              "    <tr>\n",
              "      <th>996</th>\n",
              "      <td>activity</td>\n",
              "      <td>25.550060</td>\n",
              "      <td>-20.386713</td>\n",
              "    </tr>\n",
              "    <tr>\n",
              "      <th>997</th>\n",
              "      <td>loss</td>\n",
              "      <td>38.639790</td>\n",
              "      <td>-1.202202</td>\n",
              "    </tr>\n",
              "    <tr>\n",
              "      <th>998</th>\n",
              "      <td>sufficient</td>\n",
              "      <td>-1.780198</td>\n",
              "      <td>-42.378742</td>\n",
              "    </tr>\n",
              "    <tr>\n",
              "      <th>999</th>\n",
              "      <td>proper</td>\n",
              "      <td>14.908644</td>\n",
              "      <td>31.429987</td>\n",
              "    </tr>\n",
              "  </tbody>\n",
              "</table>\n",
              "<p>1000 rows × 3 columns</p>\n",
              "</div>"
            ],
            "text/plain": [
              "            word          x          y\n",
              "0             QS -23.281115  25.232203\n",
              "1    Enterprises -23.320431  25.250465\n",
              "2            Ltd -23.453808  25.307230\n",
              "3           From -24.552422  47.910664\n",
              "4      Wikipedia -24.676220  48.183498\n",
              "..           ...        ...        ...\n",
              "995     adequate  25.522812 -18.446062\n",
              "996     activity  25.550060 -20.386713\n",
              "997         loss  38.639790  -1.202202\n",
              "998   sufficient  -1.780198 -42.378742\n",
              "999       proper  14.908644  31.429987\n",
              "\n",
              "[1000 rows x 3 columns]"
            ]
          },
          "metadata": {},
          "execution_count": 27
        }
      ]
    },
    {
      "cell_type": "code",
      "metadata": {
        "id": "Wa05Pi0hyjXK"
      },
      "source": [
        "#plot\n",
        "sns.set_context(\"poster\")"
      ],
      "execution_count": 28,
      "outputs": []
    },
    {
      "cell_type": "code",
      "metadata": {
        "colab": {
          "base_uri": "https://localhost:8080/",
          "height": 423
        },
        "id": "g5qTpUd-ynT9",
        "outputId": "b6193c3c-7fa2-4a6e-b770-f0d459f62836"
      },
      "source": [
        "points.tail(1000)"
      ],
      "execution_count": 29,
      "outputs": [
        {
          "output_type": "execute_result",
          "data": {
            "text/html": [
              "<div>\n",
              "<style scoped>\n",
              "    .dataframe tbody tr th:only-of-type {\n",
              "        vertical-align: middle;\n",
              "    }\n",
              "\n",
              "    .dataframe tbody tr th {\n",
              "        vertical-align: top;\n",
              "    }\n",
              "\n",
              "    .dataframe thead th {\n",
              "        text-align: right;\n",
              "    }\n",
              "</style>\n",
              "<table border=\"1\" class=\"dataframe\">\n",
              "  <thead>\n",
              "    <tr style=\"text-align: right;\">\n",
              "      <th></th>\n",
              "      <th>word</th>\n",
              "      <th>x</th>\n",
              "      <th>y</th>\n",
              "    </tr>\n",
              "  </thead>\n",
              "  <tbody>\n",
              "    <tr>\n",
              "      <th>2823</th>\n",
              "      <td>MLK</td>\n",
              "      <td>-28.034367</td>\n",
              "      <td>6.840488</td>\n",
              "    </tr>\n",
              "    <tr>\n",
              "      <th>2824</th>\n",
              "      <td>Leadership</td>\n",
              "      <td>-45.580673</td>\n",
              "      <td>27.585989</td>\n",
              "    </tr>\n",
              "    <tr>\n",
              "      <th>2825</th>\n",
              "      <td>Ralph</td>\n",
              "      <td>-44.370758</td>\n",
              "      <td>26.224773</td>\n",
              "    </tr>\n",
              "    <tr>\n",
              "      <th>2826</th>\n",
              "      <td>Abernathy</td>\n",
              "      <td>-44.389721</td>\n",
              "      <td>26.215700</td>\n",
              "    </tr>\n",
              "    <tr>\n",
              "      <th>2827</th>\n",
              "      <td>Atlanta</td>\n",
              "      <td>-25.700245</td>\n",
              "      <td>6.679538</td>\n",
              "    </tr>\n",
              "    <tr>\n",
              "      <th>...</th>\n",
              "      <td>...</td>\n",
              "      <td>...</td>\n",
              "      <td>...</td>\n",
              "    </tr>\n",
              "    <tr>\n",
              "      <th>3818</th>\n",
              "      <td>San</td>\n",
              "      <td>-18.024677</td>\n",
              "      <td>18.098194</td>\n",
              "    </tr>\n",
              "    <tr>\n",
              "      <th>3819</th>\n",
              "      <td>portraits</td>\n",
              "      <td>-18.280235</td>\n",
              "      <td>19.441601</td>\n",
              "    </tr>\n",
              "    <tr>\n",
              "      <th>3820</th>\n",
              "      <td>poet</td>\n",
              "      <td>-18.245499</td>\n",
              "      <td>19.474558</td>\n",
              "    </tr>\n",
              "    <tr>\n",
              "      <th>3821</th>\n",
              "      <td>Vigo</td>\n",
              "      <td>-18.239641</td>\n",
              "      <td>19.465906</td>\n",
              "    </tr>\n",
              "    <tr>\n",
              "      <th>3822</th>\n",
              "      <td>di</td>\n",
              "      <td>-18.117033</td>\n",
              "      <td>18.575636</td>\n",
              "    </tr>\n",
              "  </tbody>\n",
              "</table>\n",
              "<p>1000 rows × 3 columns</p>\n",
              "</div>"
            ],
            "text/plain": [
              "            word          x          y\n",
              "2823         MLK -28.034367   6.840488\n",
              "2824  Leadership -45.580673  27.585989\n",
              "2825       Ralph -44.370758  26.224773\n",
              "2826   Abernathy -44.389721  26.215700\n",
              "2827     Atlanta -25.700245   6.679538\n",
              "...          ...        ...        ...\n",
              "3818         San -18.024677  18.098194\n",
              "3819   portraits -18.280235  19.441601\n",
              "3820        poet -18.245499  19.474558\n",
              "3821        Vigo -18.239641  19.465906\n",
              "3822          di -18.117033  18.575636\n",
              "\n",
              "[1000 rows x 3 columns]"
            ]
          },
          "metadata": {},
          "execution_count": 29
        }
      ]
    },
    {
      "cell_type": "code",
      "metadata": {
        "colab": {
          "base_uri": "https://localhost:8080/",
          "height": 530
        },
        "id": "n7Jgt8Y_ypsG",
        "outputId": "deea6a3d-a200-4e73-986c-4d6d6282dc9b"
      },
      "source": [
        "ax=points.plot.scatter(\"x\", \"y\", s=10, figsize=(20, 12))"
      ],
      "execution_count": 30,
      "outputs": [
        {
          "output_type": "display_data",
          "data": {
            "image/png": "[encoded data removed]",
            "text/plain": [
              "<Figure size 1440x864 with 1 Axes>"
            ]
          },
          "metadata": {
            "needs_background": "light"
          }
        }
      ]
    },
    {
      "cell_type": "code",
      "metadata": {
        "id": "tHEVMjWZyr07"
      },
      "source": [
        "#distance,similarity and ranking\n",
        "def plot_region(x_bounds, y_bounds):\n",
        "    slice = points[\n",
        "        (x_bounds[0] <= points.x) &\n",
        "        (points.x <= x_bounds[1]) & \n",
        "        (y_bounds[0] <= points.y) &\n",
        "        (points.y <= y_bounds[1])\n",
        "    ]\n",
        "    \n",
        "    ax = slice.plot.scatter(\"x\", \"y\", s=35, figsize=(10, 8))\n",
        "    for i, point in slice.iterrows():\n",
        "        ax.text(point.x + 0.005, point.y + 0.005, point.word, fontsize=11)"
      ],
      "execution_count": 31,
      "outputs": []
    },
    {
      "cell_type": "code",
      "metadata": {
        "colab": {
          "base_uri": "https://localhost:8080/",
          "height": 547
        },
        "id": "2D6598n1ytbI",
        "outputId": "51bbdbaa-486a-4459-a757-b3c956df95ba"
      },
      "source": [
        "plot_region(x_bounds=(4, 30), y_bounds=(-0.5, -0.1))"
      ],
      "execution_count": 32,
      "outputs": [
        {
          "output_type": "stream",
          "name": "stderr",
          "text": [
            "2021-11-06 10:28:40,203 : INFO : NumExpr defaulting to 2 threads.\n"
          ]
        },
        {
          "output_type": "display_data",
          "data": {
            "image/png": "[encoded data removed]",
            "text/plain": [
              "<Figure size 720x576 with 1 Axes>"
            ]
          },
          "metadata": {
            "needs_background": "light"
          }
        }
      ]
    },
    {
      "cell_type": "code",
      "metadata": {
        "colab": {
          "base_uri": "https://localhost:8080/",
          "height": 529
        },
        "id": "46pF4SduywYa",
        "outputId": "4cabb29f-73be-4ed2-bbeb-30f916de6fa6"
      },
      "source": [
        "plot_region(x_bounds=(0, 8), y_bounds=(4, 7))"
      ],
      "execution_count": 33,
      "outputs": [
        {
          "output_type": "display_data",
          "data": {
            "image/png": "[encoded data removed]",
            "text/plain": [
              "<Figure size 720x576 with 1 Axes>"
            ]
          },
          "metadata": {
            "needs_background": "light"
          }
        }
      ]
    },
    {
      "cell_type": "code",
      "metadata": {
        "colab": {
          "base_uri": "https://localhost:8080/"
        },
        "id": "vULEdhpvyyKF",
        "outputId": "0c1cc3e5-2412-4469-c969-191a4eb19995"
      },
      "source": [
        "thrones2vec.wv.most_similar(\"thousand\")"
      ],
      "execution_count": 35,
      "outputs": [
        {
          "output_type": "execute_result",
          "data": {
            "text/plain": [
              "[('acres', 0.6435402631759644),\n",
              " ('purchase', 0.6179470419883728),\n",
              " ('fair', 0.5750135183334351),\n",
              " ('copies', 0.5512736439704895),\n",
              " ('sold', 0.5173351168632507),\n",
              " ('fiction', 0.515659511089325),\n",
              " ('surrounding', 0.48535239696502686),\n",
              " ('develop', 0.48385089635849),\n",
              " ('ten', 0.48117581009864807),\n",
              " ('biggest', 0.4807230532169342)]"
            ]
          },
          "metadata": {},
          "execution_count": 35
        }
      ]
    },
    {
      "cell_type": "code",
      "metadata": {
        "colab": {
          "base_uri": "https://localhost:8080/",
          "height": 311
        },
        "id": "hjsD7BFxy5JN",
        "outputId": "926eb747-6955-4483-da91-2b947e8b217e"
      },
      "source": [
        "thrones2vec.wv.most_similar(\"88\")"
      ],
      "execution_count": 36,
      "outputs": [
        {
          "output_type": "error",
          "ename": "KeyError",
          "evalue": "ignored",
          "traceback": [
            "\u001b[0;31m---------------------------------------------------------------------------\u001b[0m",
            "\u001b[0;31mKeyError\u001b[0m                                  Traceback (most recent call last)",
            "\u001b[0;32m<ipython-input-36-74479c5c704f>\u001b[0m in \u001b[0;36m<module>\u001b[0;34m()\u001b[0m\n\u001b[0;32m----> 1\u001b[0;31m \u001b[0mthrones2vec\u001b[0m\u001b[0;34m.\u001b[0m\u001b[0mwv\u001b[0m\u001b[0;34m.\u001b[0m\u001b[0mmost_similar\u001b[0m\u001b[0;34m(\u001b[0m\u001b[0;34m\"88\"\u001b[0m\u001b[0;34m)\u001b[0m\u001b[0;34m\u001b[0m\u001b[0;34m\u001b[0m\u001b[0m\n\u001b[0m",
            "\u001b[0;32m/usr/local/lib/python3.7/dist-packages/gensim/models/keyedvectors.py\u001b[0m in \u001b[0;36mmost_similar\u001b[0;34m(self, positive, negative, topn, restrict_vocab, indexer)\u001b[0m\n\u001b[1;32m    529\u001b[0m                 \u001b[0mmean\u001b[0m\u001b[0;34m.\u001b[0m\u001b[0mappend\u001b[0m\u001b[0;34m(\u001b[0m\u001b[0mweight\u001b[0m \u001b[0;34m*\u001b[0m \u001b[0mword\u001b[0m\u001b[0;34m)\u001b[0m\u001b[0;34m\u001b[0m\u001b[0;34m\u001b[0m\u001b[0m\n\u001b[1;32m    530\u001b[0m             \u001b[0;32melse\u001b[0m\u001b[0;34m:\u001b[0m\u001b[0;34m\u001b[0m\u001b[0;34m\u001b[0m\u001b[0m\n\u001b[0;32m--> 531\u001b[0;31m                 \u001b[0mmean\u001b[0m\u001b[0;34m.\u001b[0m\u001b[0mappend\u001b[0m\u001b[0;34m(\u001b[0m\u001b[0mweight\u001b[0m \u001b[0;34m*\u001b[0m \u001b[0mself\u001b[0m\u001b[0;34m.\u001b[0m\u001b[0mword_vec\u001b[0m\u001b[0;34m(\u001b[0m\u001b[0mword\u001b[0m\u001b[0;34m,\u001b[0m \u001b[0muse_norm\u001b[0m\u001b[0;34m=\u001b[0m\u001b[0;32mTrue\u001b[0m\u001b[0;34m)\u001b[0m\u001b[0;34m)\u001b[0m\u001b[0;34m\u001b[0m\u001b[0;34m\u001b[0m\u001b[0m\n\u001b[0m\u001b[1;32m    532\u001b[0m                 \u001b[0;32mif\u001b[0m \u001b[0mword\u001b[0m \u001b[0;32min\u001b[0m \u001b[0mself\u001b[0m\u001b[0;34m.\u001b[0m\u001b[0mvocab\u001b[0m\u001b[0;34m:\u001b[0m\u001b[0;34m\u001b[0m\u001b[0;34m\u001b[0m\u001b[0m\n\u001b[1;32m    533\u001b[0m                     \u001b[0mall_words\u001b[0m\u001b[0;34m.\u001b[0m\u001b[0madd\u001b[0m\u001b[0;34m(\u001b[0m\u001b[0mself\u001b[0m\u001b[0;34m.\u001b[0m\u001b[0mvocab\u001b[0m\u001b[0;34m[\u001b[0m\u001b[0mword\u001b[0m\u001b[0;34m]\u001b[0m\u001b[0;34m.\u001b[0m\u001b[0mindex\u001b[0m\u001b[0;34m)\u001b[0m\u001b[0;34m\u001b[0m\u001b[0;34m\u001b[0m\u001b[0m\n",
            "\u001b[0;32m/usr/local/lib/python3.7/dist-packages/gensim/models/keyedvectors.py\u001b[0m in \u001b[0;36mword_vec\u001b[0;34m(self, word, use_norm)\u001b[0m\n\u001b[1;32m    450\u001b[0m             \u001b[0;32mreturn\u001b[0m \u001b[0mresult\u001b[0m\u001b[0;34m\u001b[0m\u001b[0;34m\u001b[0m\u001b[0m\n\u001b[1;32m    451\u001b[0m         \u001b[0;32melse\u001b[0m\u001b[0;34m:\u001b[0m\u001b[0;34m\u001b[0m\u001b[0;34m\u001b[0m\u001b[0m\n\u001b[0;32m--> 452\u001b[0;31m             \u001b[0;32mraise\u001b[0m \u001b[0mKeyError\u001b[0m\u001b[0;34m(\u001b[0m\u001b[0;34m\"word '%s' not in vocabulary\"\u001b[0m \u001b[0;34m%\u001b[0m \u001b[0mword\u001b[0m\u001b[0;34m)\u001b[0m\u001b[0;34m\u001b[0m\u001b[0;34m\u001b[0m\u001b[0m\n\u001b[0m\u001b[1;32m    453\u001b[0m \u001b[0;34m\u001b[0m\u001b[0m\n\u001b[1;32m    454\u001b[0m     \u001b[0;32mdef\u001b[0m \u001b[0mget_vector\u001b[0m\u001b[0;34m(\u001b[0m\u001b[0mself\u001b[0m\u001b[0;34m,\u001b[0m \u001b[0mword\u001b[0m\u001b[0;34m)\u001b[0m\u001b[0;34m:\u001b[0m\u001b[0;34m\u001b[0m\u001b[0;34m\u001b[0m\u001b[0m\n",
            "\u001b[0;31mKeyError\u001b[0m: \"word '88' not in vocabulary\""
          ]
        }
      ]
    },
    {
      "cell_type": "code",
      "metadata": {
        "colab": {
          "base_uri": "https://localhost:8080/"
        },
        "id": "Y0DhvFXBy9kU",
        "outputId": "8aa01c2d-8d66-44e6-f3ae-b5e17ee518c1"
      },
      "source": [
        "thrones2vec.wv.most_similar(\"people\")"
      ],
      "execution_count": 40,
      "outputs": [
        {
          "output_type": "execute_result",
          "data": {
            "text/plain": [
              "[('promised', 0.38114210963249207),\n",
              " ('admired', 0.3700217604637146),\n",
              " ('gradually', 0.3562178313732147),\n",
              " ('residential', 0.3554510474205017),\n",
              " ('purchase', 0.35376307368278503),\n",
              " ('tonight', 0.351540207862854),\n",
              " ('oppressed', 0.34878110885620117),\n",
              " ('developing', 0.346981942653656),\n",
              " ('organizing', 0.3439165949821472),\n",
              " ('ill', 0.3423253297805786)]"
            ]
          },
          "metadata": {},
          "execution_count": 40
        }
      ]
    },
    {
      "cell_type": "code",
      "metadata": {
        "colab": {
          "base_uri": "https://localhost:8080/",
          "height": 311
        },
        "id": "YDaIBdmzzCHT",
        "outputId": "a35c99f4-d5e7-4a9e-f0f1-bc50bcf533b1"
      },
      "source": [
        "thrones2vec.wv.most_similar(\"tennis\")"
      ],
      "execution_count": 38,
      "outputs": [
        {
          "output_type": "error",
          "ename": "KeyError",
          "evalue": "ignored",
          "traceback": [
            "\u001b[0;31m---------------------------------------------------------------------------\u001b[0m",
            "\u001b[0;31mKeyError\u001b[0m                                  Traceback (most recent call last)",
            "\u001b[0;32m<ipython-input-38-c87c80367abc>\u001b[0m in \u001b[0;36m<module>\u001b[0;34m()\u001b[0m\n\u001b[0;32m----> 1\u001b[0;31m \u001b[0mthrones2vec\u001b[0m\u001b[0;34m.\u001b[0m\u001b[0mwv\u001b[0m\u001b[0;34m.\u001b[0m\u001b[0mmost_similar\u001b[0m\u001b[0;34m(\u001b[0m\u001b[0;34m\"tennis\"\u001b[0m\u001b[0;34m)\u001b[0m\u001b[0;34m\u001b[0m\u001b[0;34m\u001b[0m\u001b[0m\n\u001b[0m",
            "\u001b[0;32m/usr/local/lib/python3.7/dist-packages/gensim/models/keyedvectors.py\u001b[0m in \u001b[0;36mmost_similar\u001b[0;34m(self, positive, negative, topn, restrict_vocab, indexer)\u001b[0m\n\u001b[1;32m    529\u001b[0m                 \u001b[0mmean\u001b[0m\u001b[0;34m.\u001b[0m\u001b[0mappend\u001b[0m\u001b[0;34m(\u001b[0m\u001b[0mweight\u001b[0m \u001b[0;34m*\u001b[0m \u001b[0mword\u001b[0m\u001b[0;34m)\u001b[0m\u001b[0;34m\u001b[0m\u001b[0;34m\u001b[0m\u001b[0m\n\u001b[1;32m    530\u001b[0m             \u001b[0;32melse\u001b[0m\u001b[0;34m:\u001b[0m\u001b[0;34m\u001b[0m\u001b[0;34m\u001b[0m\u001b[0m\n\u001b[0;32m--> 531\u001b[0;31m                 \u001b[0mmean\u001b[0m\u001b[0;34m.\u001b[0m\u001b[0mappend\u001b[0m\u001b[0;34m(\u001b[0m\u001b[0mweight\u001b[0m \u001b[0;34m*\u001b[0m \u001b[0mself\u001b[0m\u001b[0;34m.\u001b[0m\u001b[0mword_vec\u001b[0m\u001b[0;34m(\u001b[0m\u001b[0mword\u001b[0m\u001b[0;34m,\u001b[0m \u001b[0muse_norm\u001b[0m\u001b[0;34m=\u001b[0m\u001b[0;32mTrue\u001b[0m\u001b[0;34m)\u001b[0m\u001b[0;34m)\u001b[0m\u001b[0;34m\u001b[0m\u001b[0;34m\u001b[0m\u001b[0m\n\u001b[0m\u001b[1;32m    532\u001b[0m                 \u001b[0;32mif\u001b[0m \u001b[0mword\u001b[0m \u001b[0;32min\u001b[0m \u001b[0mself\u001b[0m\u001b[0;34m.\u001b[0m\u001b[0mvocab\u001b[0m\u001b[0;34m:\u001b[0m\u001b[0;34m\u001b[0m\u001b[0;34m\u001b[0m\u001b[0m\n\u001b[1;32m    533\u001b[0m                     \u001b[0mall_words\u001b[0m\u001b[0;34m.\u001b[0m\u001b[0madd\u001b[0m\u001b[0;34m(\u001b[0m\u001b[0mself\u001b[0m\u001b[0;34m.\u001b[0m\u001b[0mvocab\u001b[0m\u001b[0;34m[\u001b[0m\u001b[0mword\u001b[0m\u001b[0;34m]\u001b[0m\u001b[0;34m.\u001b[0m\u001b[0mindex\u001b[0m\u001b[0;34m)\u001b[0m\u001b[0;34m\u001b[0m\u001b[0;34m\u001b[0m\u001b[0m\n",
            "\u001b[0;32m/usr/local/lib/python3.7/dist-packages/gensim/models/keyedvectors.py\u001b[0m in \u001b[0;36mword_vec\u001b[0;34m(self, word, use_norm)\u001b[0m\n\u001b[1;32m    450\u001b[0m             \u001b[0;32mreturn\u001b[0m \u001b[0mresult\u001b[0m\u001b[0;34m\u001b[0m\u001b[0;34m\u001b[0m\u001b[0m\n\u001b[1;32m    451\u001b[0m         \u001b[0;32melse\u001b[0m\u001b[0;34m:\u001b[0m\u001b[0;34m\u001b[0m\u001b[0;34m\u001b[0m\u001b[0m\n\u001b[0;32m--> 452\u001b[0;31m             \u001b[0;32mraise\u001b[0m \u001b[0mKeyError\u001b[0m\u001b[0;34m(\u001b[0m\u001b[0;34m\"word '%s' not in vocabulary\"\u001b[0m \u001b[0;34m%\u001b[0m \u001b[0mword\u001b[0m\u001b[0;34m)\u001b[0m\u001b[0;34m\u001b[0m\u001b[0;34m\u001b[0m\u001b[0m\n\u001b[0m\u001b[1;32m    453\u001b[0m \u001b[0;34m\u001b[0m\u001b[0m\n\u001b[1;32m    454\u001b[0m     \u001b[0;32mdef\u001b[0m \u001b[0mget_vector\u001b[0m\u001b[0;34m(\u001b[0m\u001b[0mself\u001b[0m\u001b[0;34m,\u001b[0m \u001b[0mword\u001b[0m\u001b[0;34m)\u001b[0m\u001b[0;34m:\u001b[0m\u001b[0;34m\u001b[0m\u001b[0;34m\u001b[0m\u001b[0m\n",
            "\u001b[0;31mKeyError\u001b[0m: \"word 'tennis' not in vocabulary\""
          ]
        }
      ]
    },
    {
      "cell_type": "code",
      "metadata": {
        "colab": {
          "base_uri": "https://localhost:8080/",
          "height": 311
        },
        "id": "AGkYqN92zG4z",
        "outputId": "aec256ad-e94e-4afe-821e-6694094d3896"
      },
      "source": [
        "thrones2vec.wv.most_similar(\"match\")"
      ],
      "execution_count": 39,
      "outputs": [
        {
          "output_type": "error",
          "ename": "KeyError",
          "evalue": "ignored",
          "traceback": [
            "\u001b[0;31m---------------------------------------------------------------------------\u001b[0m",
            "\u001b[0;31mKeyError\u001b[0m                                  Traceback (most recent call last)",
            "\u001b[0;32m<ipython-input-39-661c5bc32896>\u001b[0m in \u001b[0;36m<module>\u001b[0;34m()\u001b[0m\n\u001b[0;32m----> 1\u001b[0;31m \u001b[0mthrones2vec\u001b[0m\u001b[0;34m.\u001b[0m\u001b[0mwv\u001b[0m\u001b[0;34m.\u001b[0m\u001b[0mmost_similar\u001b[0m\u001b[0;34m(\u001b[0m\u001b[0;34m\"match\"\u001b[0m\u001b[0;34m)\u001b[0m\u001b[0;34m\u001b[0m\u001b[0;34m\u001b[0m\u001b[0m\n\u001b[0m",
            "\u001b[0;32m/usr/local/lib/python3.7/dist-packages/gensim/models/keyedvectors.py\u001b[0m in \u001b[0;36mmost_similar\u001b[0;34m(self, positive, negative, topn, restrict_vocab, indexer)\u001b[0m\n\u001b[1;32m    529\u001b[0m                 \u001b[0mmean\u001b[0m\u001b[0;34m.\u001b[0m\u001b[0mappend\u001b[0m\u001b[0;34m(\u001b[0m\u001b[0mweight\u001b[0m \u001b[0;34m*\u001b[0m \u001b[0mword\u001b[0m\u001b[0;34m)\u001b[0m\u001b[0;34m\u001b[0m\u001b[0;34m\u001b[0m\u001b[0m\n\u001b[1;32m    530\u001b[0m             \u001b[0;32melse\u001b[0m\u001b[0;34m:\u001b[0m\u001b[0;34m\u001b[0m\u001b[0;34m\u001b[0m\u001b[0m\n\u001b[0;32m--> 531\u001b[0;31m                 \u001b[0mmean\u001b[0m\u001b[0;34m.\u001b[0m\u001b[0mappend\u001b[0m\u001b[0;34m(\u001b[0m\u001b[0mweight\u001b[0m \u001b[0;34m*\u001b[0m \u001b[0mself\u001b[0m\u001b[0;34m.\u001b[0m\u001b[0mword_vec\u001b[0m\u001b[0;34m(\u001b[0m\u001b[0mword\u001b[0m\u001b[0;34m,\u001b[0m \u001b[0muse_norm\u001b[0m\u001b[0;34m=\u001b[0m\u001b[0;32mTrue\u001b[0m\u001b[0;34m)\u001b[0m\u001b[0;34m)\u001b[0m\u001b[0;34m\u001b[0m\u001b[0;34m\u001b[0m\u001b[0m\n\u001b[0m\u001b[1;32m    532\u001b[0m                 \u001b[0;32mif\u001b[0m \u001b[0mword\u001b[0m \u001b[0;32min\u001b[0m \u001b[0mself\u001b[0m\u001b[0;34m.\u001b[0m\u001b[0mvocab\u001b[0m\u001b[0;34m:\u001b[0m\u001b[0;34m\u001b[0m\u001b[0;34m\u001b[0m\u001b[0m\n\u001b[1;32m    533\u001b[0m                     \u001b[0mall_words\u001b[0m\u001b[0;34m.\u001b[0m\u001b[0madd\u001b[0m\u001b[0;34m(\u001b[0m\u001b[0mself\u001b[0m\u001b[0;34m.\u001b[0m\u001b[0mvocab\u001b[0m\u001b[0;34m[\u001b[0m\u001b[0mword\u001b[0m\u001b[0;34m]\u001b[0m\u001b[0;34m.\u001b[0m\u001b[0mindex\u001b[0m\u001b[0;34m)\u001b[0m\u001b[0;34m\u001b[0m\u001b[0;34m\u001b[0m\u001b[0m\n",
            "\u001b[0;32m/usr/local/lib/python3.7/dist-packages/gensim/models/keyedvectors.py\u001b[0m in \u001b[0;36mword_vec\u001b[0;34m(self, word, use_norm)\u001b[0m\n\u001b[1;32m    450\u001b[0m             \u001b[0;32mreturn\u001b[0m \u001b[0mresult\u001b[0m\u001b[0;34m\u001b[0m\u001b[0;34m\u001b[0m\u001b[0m\n\u001b[1;32m    451\u001b[0m         \u001b[0;32melse\u001b[0m\u001b[0;34m:\u001b[0m\u001b[0;34m\u001b[0m\u001b[0;34m\u001b[0m\u001b[0m\n\u001b[0;32m--> 452\u001b[0;31m             \u001b[0;32mraise\u001b[0m \u001b[0mKeyError\u001b[0m\u001b[0;34m(\u001b[0m\u001b[0;34m\"word '%s' not in vocabulary\"\u001b[0m \u001b[0;34m%\u001b[0m \u001b[0mword\u001b[0m\u001b[0;34m)\u001b[0m\u001b[0;34m\u001b[0m\u001b[0;34m\u001b[0m\u001b[0m\n\u001b[0m\u001b[1;32m    453\u001b[0m \u001b[0;34m\u001b[0m\u001b[0m\n\u001b[1;32m    454\u001b[0m     \u001b[0;32mdef\u001b[0m \u001b[0mget_vector\u001b[0m\u001b[0;34m(\u001b[0m\u001b[0mself\u001b[0m\u001b[0;34m,\u001b[0m \u001b[0mword\u001b[0m\u001b[0;34m)\u001b[0m\u001b[0;34m:\u001b[0m\u001b[0;34m\u001b[0m\u001b[0;34m\u001b[0m\u001b[0m\n",
            "\u001b[0;31mKeyError\u001b[0m: \"word 'match' not in vocabulary\""
          ]
        }
      ]
    },
    {
      "cell_type": "code",
      "metadata": {
        "colab": {
          "base_uri": "https://localhost:8080/"
        },
        "id": "SI9bd-GUzOf8",
        "outputId": "8a9d2060-2de6-4db2-93ae-e71369ed4a11"
      },
      "source": [
        "thrones2vec.wv.most_similar(\"the\")\n"
      ],
      "execution_count": 41,
      "outputs": [
        {
          "output_type": "execute_result",
          "data": {
            "text/plain": [
              "[('of', 0.34052032232284546),\n",
              " ('Bulleen', 0.26128876209259033),\n",
              " ('testified', 0.2521178722381592),\n",
              " ('controversial', 0.2492714524269104),\n",
              " ('deviates', 0.24443835020065308),\n",
              " ('Yale', 0.2422420233488083),\n",
              " ('Fame', 0.24033313989639282),\n",
              " ('Andrews', 0.2398793250322342),\n",
              " ('elected', 0.23979638516902924),\n",
              " ('ignored', 0.23940959572792053)]"
            ]
          },
          "metadata": {},
          "execution_count": 41
        }
      ]
    },
    {
      "cell_type": "code",
      "metadata": {
        "colab": {
          "base_uri": "https://localhost:8080/",
          "height": 311
        },
        "id": "yELe0QPezW23",
        "outputId": "9f74818b-b492-44ce-eda6-98cecc9a7e67"
      },
      "source": [
        "thrones2vec.wv.most_similar(\"plastic\")"
      ],
      "execution_count": 42,
      "outputs": [
        {
          "output_type": "error",
          "ename": "KeyError",
          "evalue": "ignored",
          "traceback": [
            "\u001b[0;31m---------------------------------------------------------------------------\u001b[0m",
            "\u001b[0;31mKeyError\u001b[0m                                  Traceback (most recent call last)",
            "\u001b[0;32m<ipython-input-42-ee7efa0f9262>\u001b[0m in \u001b[0;36m<module>\u001b[0;34m()\u001b[0m\n\u001b[0;32m----> 1\u001b[0;31m \u001b[0mthrones2vec\u001b[0m\u001b[0;34m.\u001b[0m\u001b[0mwv\u001b[0m\u001b[0;34m.\u001b[0m\u001b[0mmost_similar\u001b[0m\u001b[0;34m(\u001b[0m\u001b[0;34m\"plastic\"\u001b[0m\u001b[0;34m)\u001b[0m\u001b[0;34m\u001b[0m\u001b[0;34m\u001b[0m\u001b[0m\n\u001b[0m",
            "\u001b[0;32m/usr/local/lib/python3.7/dist-packages/gensim/models/keyedvectors.py\u001b[0m in \u001b[0;36mmost_similar\u001b[0;34m(self, positive, negative, topn, restrict_vocab, indexer)\u001b[0m\n\u001b[1;32m    529\u001b[0m                 \u001b[0mmean\u001b[0m\u001b[0;34m.\u001b[0m\u001b[0mappend\u001b[0m\u001b[0;34m(\u001b[0m\u001b[0mweight\u001b[0m \u001b[0;34m*\u001b[0m \u001b[0mword\u001b[0m\u001b[0;34m)\u001b[0m\u001b[0;34m\u001b[0m\u001b[0;34m\u001b[0m\u001b[0m\n\u001b[1;32m    530\u001b[0m             \u001b[0;32melse\u001b[0m\u001b[0;34m:\u001b[0m\u001b[0;34m\u001b[0m\u001b[0;34m\u001b[0m\u001b[0m\n\u001b[0;32m--> 531\u001b[0;31m                 \u001b[0mmean\u001b[0m\u001b[0;34m.\u001b[0m\u001b[0mappend\u001b[0m\u001b[0;34m(\u001b[0m\u001b[0mweight\u001b[0m \u001b[0;34m*\u001b[0m \u001b[0mself\u001b[0m\u001b[0;34m.\u001b[0m\u001b[0mword_vec\u001b[0m\u001b[0;34m(\u001b[0m\u001b[0mword\u001b[0m\u001b[0;34m,\u001b[0m \u001b[0muse_norm\u001b[0m\u001b[0;34m=\u001b[0m\u001b[0;32mTrue\u001b[0m\u001b[0;34m)\u001b[0m\u001b[0;34m)\u001b[0m\u001b[0;34m\u001b[0m\u001b[0;34m\u001b[0m\u001b[0m\n\u001b[0m\u001b[1;32m    532\u001b[0m                 \u001b[0;32mif\u001b[0m \u001b[0mword\u001b[0m \u001b[0;32min\u001b[0m \u001b[0mself\u001b[0m\u001b[0;34m.\u001b[0m\u001b[0mvocab\u001b[0m\u001b[0;34m:\u001b[0m\u001b[0;34m\u001b[0m\u001b[0;34m\u001b[0m\u001b[0m\n\u001b[1;32m    533\u001b[0m                     \u001b[0mall_words\u001b[0m\u001b[0;34m.\u001b[0m\u001b[0madd\u001b[0m\u001b[0;34m(\u001b[0m\u001b[0mself\u001b[0m\u001b[0;34m.\u001b[0m\u001b[0mvocab\u001b[0m\u001b[0;34m[\u001b[0m\u001b[0mword\u001b[0m\u001b[0;34m]\u001b[0m\u001b[0;34m.\u001b[0m\u001b[0mindex\u001b[0m\u001b[0;34m)\u001b[0m\u001b[0;34m\u001b[0m\u001b[0;34m\u001b[0m\u001b[0m\n",
            "\u001b[0;32m/usr/local/lib/python3.7/dist-packages/gensim/models/keyedvectors.py\u001b[0m in \u001b[0;36mword_vec\u001b[0;34m(self, word, use_norm)\u001b[0m\n\u001b[1;32m    450\u001b[0m             \u001b[0;32mreturn\u001b[0m \u001b[0mresult\u001b[0m\u001b[0;34m\u001b[0m\u001b[0;34m\u001b[0m\u001b[0m\n\u001b[1;32m    451\u001b[0m         \u001b[0;32melse\u001b[0m\u001b[0;34m:\u001b[0m\u001b[0;34m\u001b[0m\u001b[0;34m\u001b[0m\u001b[0m\n\u001b[0;32m--> 452\u001b[0;31m             \u001b[0;32mraise\u001b[0m \u001b[0mKeyError\u001b[0m\u001b[0;34m(\u001b[0m\u001b[0;34m\"word '%s' not in vocabulary\"\u001b[0m \u001b[0;34m%\u001b[0m \u001b[0mword\u001b[0m\u001b[0;34m)\u001b[0m\u001b[0;34m\u001b[0m\u001b[0;34m\u001b[0m\u001b[0m\n\u001b[0m\u001b[1;32m    453\u001b[0m \u001b[0;34m\u001b[0m\u001b[0m\n\u001b[1;32m    454\u001b[0m     \u001b[0;32mdef\u001b[0m \u001b[0mget_vector\u001b[0m\u001b[0;34m(\u001b[0m\u001b[0mself\u001b[0m\u001b[0;34m,\u001b[0m \u001b[0mword\u001b[0m\u001b[0;34m)\u001b[0m\u001b[0;34m:\u001b[0m\u001b[0;34m\u001b[0m\u001b[0;34m\u001b[0m\u001b[0m\n",
            "\u001b[0;31mKeyError\u001b[0m: \"word 'plastic' not in vocabulary\""
          ]
        }
      ]
    },
    {
      "cell_type": "code",
      "metadata": {
        "colab": {
          "base_uri": "https://localhost:8080/",
          "height": 311
        },
        "id": "WB-gL3GfzbFe",
        "outputId": "b015b30e-e563-4fce-8f4f-e67442ec9a6a"
      },
      "source": [
        " thrones2vec.wv.most_similar(\"container\") "
      ],
      "execution_count": 43,
      "outputs": [
        {
          "output_type": "error",
          "ename": "KeyError",
          "evalue": "ignored",
          "traceback": [
            "\u001b[0;31m---------------------------------------------------------------------------\u001b[0m",
            "\u001b[0;31mKeyError\u001b[0m                                  Traceback (most recent call last)",
            "\u001b[0;32m<ipython-input-43-bf9f28c67bc1>\u001b[0m in \u001b[0;36m<module>\u001b[0;34m()\u001b[0m\n\u001b[0;32m----> 1\u001b[0;31m \u001b[0mthrones2vec\u001b[0m\u001b[0;34m.\u001b[0m\u001b[0mwv\u001b[0m\u001b[0;34m.\u001b[0m\u001b[0mmost_similar\u001b[0m\u001b[0;34m(\u001b[0m\u001b[0;34m\"container\"\u001b[0m\u001b[0;34m)\u001b[0m\u001b[0;34m\u001b[0m\u001b[0;34m\u001b[0m\u001b[0m\n\u001b[0m",
            "\u001b[0;32m/usr/local/lib/python3.7/dist-packages/gensim/models/keyedvectors.py\u001b[0m in \u001b[0;36mmost_similar\u001b[0;34m(self, positive, negative, topn, restrict_vocab, indexer)\u001b[0m\n\u001b[1;32m    529\u001b[0m                 \u001b[0mmean\u001b[0m\u001b[0;34m.\u001b[0m\u001b[0mappend\u001b[0m\u001b[0;34m(\u001b[0m\u001b[0mweight\u001b[0m \u001b[0;34m*\u001b[0m \u001b[0mword\u001b[0m\u001b[0;34m)\u001b[0m\u001b[0;34m\u001b[0m\u001b[0;34m\u001b[0m\u001b[0m\n\u001b[1;32m    530\u001b[0m             \u001b[0;32melse\u001b[0m\u001b[0;34m:\u001b[0m\u001b[0;34m\u001b[0m\u001b[0;34m\u001b[0m\u001b[0m\n\u001b[0;32m--> 531\u001b[0;31m                 \u001b[0mmean\u001b[0m\u001b[0;34m.\u001b[0m\u001b[0mappend\u001b[0m\u001b[0;34m(\u001b[0m\u001b[0mweight\u001b[0m \u001b[0;34m*\u001b[0m \u001b[0mself\u001b[0m\u001b[0;34m.\u001b[0m\u001b[0mword_vec\u001b[0m\u001b[0;34m(\u001b[0m\u001b[0mword\u001b[0m\u001b[0;34m,\u001b[0m \u001b[0muse_norm\u001b[0m\u001b[0;34m=\u001b[0m\u001b[0;32mTrue\u001b[0m\u001b[0;34m)\u001b[0m\u001b[0;34m)\u001b[0m\u001b[0;34m\u001b[0m\u001b[0;34m\u001b[0m\u001b[0m\n\u001b[0m\u001b[1;32m    532\u001b[0m                 \u001b[0;32mif\u001b[0m \u001b[0mword\u001b[0m \u001b[0;32min\u001b[0m \u001b[0mself\u001b[0m\u001b[0;34m.\u001b[0m\u001b[0mvocab\u001b[0m\u001b[0;34m:\u001b[0m\u001b[0;34m\u001b[0m\u001b[0;34m\u001b[0m\u001b[0m\n\u001b[1;32m    533\u001b[0m                     \u001b[0mall_words\u001b[0m\u001b[0;34m.\u001b[0m\u001b[0madd\u001b[0m\u001b[0;34m(\u001b[0m\u001b[0mself\u001b[0m\u001b[0;34m.\u001b[0m\u001b[0mvocab\u001b[0m\u001b[0;34m[\u001b[0m\u001b[0mword\u001b[0m\u001b[0;34m]\u001b[0m\u001b[0;34m.\u001b[0m\u001b[0mindex\u001b[0m\u001b[0;34m)\u001b[0m\u001b[0;34m\u001b[0m\u001b[0;34m\u001b[0m\u001b[0m\n",
            "\u001b[0;32m/usr/local/lib/python3.7/dist-packages/gensim/models/keyedvectors.py\u001b[0m in \u001b[0;36mword_vec\u001b[0;34m(self, word, use_norm)\u001b[0m\n\u001b[1;32m    450\u001b[0m             \u001b[0;32mreturn\u001b[0m \u001b[0mresult\u001b[0m\u001b[0;34m\u001b[0m\u001b[0;34m\u001b[0m\u001b[0m\n\u001b[1;32m    451\u001b[0m         \u001b[0;32melse\u001b[0m\u001b[0;34m:\u001b[0m\u001b[0;34m\u001b[0m\u001b[0;34m\u001b[0m\u001b[0m\n\u001b[0;32m--> 452\u001b[0;31m             \u001b[0;32mraise\u001b[0m \u001b[0mKeyError\u001b[0m\u001b[0;34m(\u001b[0m\u001b[0;34m\"word '%s' not in vocabulary\"\u001b[0m \u001b[0;34m%\u001b[0m \u001b[0mword\u001b[0m\u001b[0;34m)\u001b[0m\u001b[0;34m\u001b[0m\u001b[0;34m\u001b[0m\u001b[0m\n\u001b[0m\u001b[1;32m    453\u001b[0m \u001b[0;34m\u001b[0m\u001b[0m\n\u001b[1;32m    454\u001b[0m     \u001b[0;32mdef\u001b[0m \u001b[0mget_vector\u001b[0m\u001b[0;34m(\u001b[0m\u001b[0mself\u001b[0m\u001b[0;34m,\u001b[0m \u001b[0mword\u001b[0m\u001b[0;34m)\u001b[0m\u001b[0;34m:\u001b[0m\u001b[0;34m\u001b[0m\u001b[0;34m\u001b[0m\u001b[0m\n",
            "\u001b[0;31mKeyError\u001b[0m: \"word 'container' not in vocabulary\""
          ]
        }
      ]
    },
    {
      "cell_type": "code",
      "metadata": {
        "colab": {
          "base_uri": "https://localhost:8080/"
        },
        "id": "CqSjqmbbze1b",
        "outputId": "00517108-f767-44f9-a2a8-93cffab3b232"
      },
      "source": [
        " thrones2vec.wv.most_similar(\"see\") "
      ],
      "execution_count": 44,
      "outputs": [
        {
          "output_type": "execute_result",
          "data": {
            "text/plain": [
              "[('disambiguation', 0.4796372056007385),\n",
              " ('Regiment', 0.4416317939758301),\n",
              " ('frac', 0.4393131732940674),\n",
              " ('imperative', 0.4316873848438263),\n",
              " ('Busy', 0.4204476475715637),\n",
              " ('reciprocals', 0.39886951446533203),\n",
              " ('huge', 0.38826417922973633),\n",
              " ('sixth', 0.3841361999511719),\n",
              " ('Mahalia', 0.38058483600616455),\n",
              " ('Chaos', 0.37728631496429443)]"
            ]
          },
          "metadata": {},
          "execution_count": 44
        }
      ]
    },
    {
      "cell_type": "code",
      "metadata": {
        "colab": {
          "base_uri": "https://localhost:8080/",
          "height": 311
        },
        "id": "8hIEJeZSziI1",
        "outputId": "964d4384-7c28-430b-ae71-217b3957bbe9"
      },
      "source": [
        "thrones2vec.wv.most_similar(\"img\") "
      ],
      "execution_count": 51,
      "outputs": [
        {
          "output_type": "error",
          "ename": "KeyError",
          "evalue": "ignored",
          "traceback": [
            "\u001b[0;31m---------------------------------------------------------------------------\u001b[0m",
            "\u001b[0;31mKeyError\u001b[0m                                  Traceback (most recent call last)",
            "\u001b[0;32m<ipython-input-51-ddc11cabd8f0>\u001b[0m in \u001b[0;36m<module>\u001b[0;34m()\u001b[0m\n\u001b[0;32m----> 1\u001b[0;31m \u001b[0mthrones2vec\u001b[0m\u001b[0;34m.\u001b[0m\u001b[0mwv\u001b[0m\u001b[0;34m.\u001b[0m\u001b[0mmost_similar\u001b[0m\u001b[0;34m(\u001b[0m\u001b[0;34m\"img\"\u001b[0m\u001b[0;34m)\u001b[0m\u001b[0;34m\u001b[0m\u001b[0;34m\u001b[0m\u001b[0m\n\u001b[0m",
            "\u001b[0;32m/usr/local/lib/python3.7/dist-packages/gensim/models/keyedvectors.py\u001b[0m in \u001b[0;36mmost_similar\u001b[0;34m(self, positive, negative, topn, restrict_vocab, indexer)\u001b[0m\n\u001b[1;32m    529\u001b[0m                 \u001b[0mmean\u001b[0m\u001b[0;34m.\u001b[0m\u001b[0mappend\u001b[0m\u001b[0;34m(\u001b[0m\u001b[0mweight\u001b[0m \u001b[0;34m*\u001b[0m \u001b[0mword\u001b[0m\u001b[0;34m)\u001b[0m\u001b[0;34m\u001b[0m\u001b[0;34m\u001b[0m\u001b[0m\n\u001b[1;32m    530\u001b[0m             \u001b[0;32melse\u001b[0m\u001b[0;34m:\u001b[0m\u001b[0;34m\u001b[0m\u001b[0;34m\u001b[0m\u001b[0m\n\u001b[0;32m--> 531\u001b[0;31m                 \u001b[0mmean\u001b[0m\u001b[0;34m.\u001b[0m\u001b[0mappend\u001b[0m\u001b[0;34m(\u001b[0m\u001b[0mweight\u001b[0m \u001b[0;34m*\u001b[0m \u001b[0mself\u001b[0m\u001b[0;34m.\u001b[0m\u001b[0mword_vec\u001b[0m\u001b[0;34m(\u001b[0m\u001b[0mword\u001b[0m\u001b[0;34m,\u001b[0m \u001b[0muse_norm\u001b[0m\u001b[0;34m=\u001b[0m\u001b[0;32mTrue\u001b[0m\u001b[0;34m)\u001b[0m\u001b[0;34m)\u001b[0m\u001b[0;34m\u001b[0m\u001b[0;34m\u001b[0m\u001b[0m\n\u001b[0m\u001b[1;32m    532\u001b[0m                 \u001b[0;32mif\u001b[0m \u001b[0mword\u001b[0m \u001b[0;32min\u001b[0m \u001b[0mself\u001b[0m\u001b[0;34m.\u001b[0m\u001b[0mvocab\u001b[0m\u001b[0;34m:\u001b[0m\u001b[0;34m\u001b[0m\u001b[0;34m\u001b[0m\u001b[0m\n\u001b[1;32m    533\u001b[0m                     \u001b[0mall_words\u001b[0m\u001b[0;34m.\u001b[0m\u001b[0madd\u001b[0m\u001b[0;34m(\u001b[0m\u001b[0mself\u001b[0m\u001b[0;34m.\u001b[0m\u001b[0mvocab\u001b[0m\u001b[0;34m[\u001b[0m\u001b[0mword\u001b[0m\u001b[0;34m]\u001b[0m\u001b[0;34m.\u001b[0m\u001b[0mindex\u001b[0m\u001b[0;34m)\u001b[0m\u001b[0;34m\u001b[0m\u001b[0;34m\u001b[0m\u001b[0m\n",
            "\u001b[0;32m/usr/local/lib/python3.7/dist-packages/gensim/models/keyedvectors.py\u001b[0m in \u001b[0;36mword_vec\u001b[0;34m(self, word, use_norm)\u001b[0m\n\u001b[1;32m    450\u001b[0m             \u001b[0;32mreturn\u001b[0m \u001b[0mresult\u001b[0m\u001b[0;34m\u001b[0m\u001b[0;34m\u001b[0m\u001b[0m\n\u001b[1;32m    451\u001b[0m         \u001b[0;32melse\u001b[0m\u001b[0;34m:\u001b[0m\u001b[0;34m\u001b[0m\u001b[0;34m\u001b[0m\u001b[0m\n\u001b[0;32m--> 452\u001b[0;31m             \u001b[0;32mraise\u001b[0m \u001b[0mKeyError\u001b[0m\u001b[0;34m(\u001b[0m\u001b[0;34m\"word '%s' not in vocabulary\"\u001b[0m \u001b[0;34m%\u001b[0m \u001b[0mword\u001b[0m\u001b[0;34m)\u001b[0m\u001b[0;34m\u001b[0m\u001b[0;34m\u001b[0m\u001b[0m\n\u001b[0m\u001b[1;32m    453\u001b[0m \u001b[0;34m\u001b[0m\u001b[0m\n\u001b[1;32m    454\u001b[0m     \u001b[0;32mdef\u001b[0m \u001b[0mget_vector\u001b[0m\u001b[0;34m(\u001b[0m\u001b[0mself\u001b[0m\u001b[0;34m,\u001b[0m \u001b[0mword\u001b[0m\u001b[0;34m)\u001b[0m\u001b[0;34m:\u001b[0m\u001b[0;34m\u001b[0m\u001b[0;34m\u001b[0m\u001b[0m\n",
            "\u001b[0;31mKeyError\u001b[0m: \"word 'img' not in vocabulary\""
          ]
        }
      ]
    },
    {
      "cell_type": "code",
      "metadata": {
        "colab": {
          "base_uri": "https://localhost:8080/",
          "height": 311
        },
        "id": "4nPBWkN5zlAY",
        "outputId": "8e998f50-60e8-4441-9b29-7d65987b3ad7"
      },
      "source": [
        "thrones2vec.wv.most_similar(\"src\") "
      ],
      "execution_count": 50,
      "outputs": [
        {
          "output_type": "error",
          "ename": "KeyError",
          "evalue": "ignored",
          "traceback": [
            "\u001b[0;31m---------------------------------------------------------------------------\u001b[0m",
            "\u001b[0;31mKeyError\u001b[0m                                  Traceback (most recent call last)",
            "\u001b[0;32m<ipython-input-50-cbd70ab99518>\u001b[0m in \u001b[0;36m<module>\u001b[0;34m()\u001b[0m\n\u001b[0;32m----> 1\u001b[0;31m \u001b[0mthrones2vec\u001b[0m\u001b[0;34m.\u001b[0m\u001b[0mwv\u001b[0m\u001b[0;34m.\u001b[0m\u001b[0mmost_similar\u001b[0m\u001b[0;34m(\u001b[0m\u001b[0;34m\"src\"\u001b[0m\u001b[0;34m)\u001b[0m\u001b[0;34m\u001b[0m\u001b[0;34m\u001b[0m\u001b[0m\n\u001b[0m",
            "\u001b[0;32m/usr/local/lib/python3.7/dist-packages/gensim/models/keyedvectors.py\u001b[0m in \u001b[0;36mmost_similar\u001b[0;34m(self, positive, negative, topn, restrict_vocab, indexer)\u001b[0m\n\u001b[1;32m    529\u001b[0m                 \u001b[0mmean\u001b[0m\u001b[0;34m.\u001b[0m\u001b[0mappend\u001b[0m\u001b[0;34m(\u001b[0m\u001b[0mweight\u001b[0m \u001b[0;34m*\u001b[0m \u001b[0mword\u001b[0m\u001b[0;34m)\u001b[0m\u001b[0;34m\u001b[0m\u001b[0;34m\u001b[0m\u001b[0m\n\u001b[1;32m    530\u001b[0m             \u001b[0;32melse\u001b[0m\u001b[0;34m:\u001b[0m\u001b[0;34m\u001b[0m\u001b[0;34m\u001b[0m\u001b[0m\n\u001b[0;32m--> 531\u001b[0;31m                 \u001b[0mmean\u001b[0m\u001b[0;34m.\u001b[0m\u001b[0mappend\u001b[0m\u001b[0;34m(\u001b[0m\u001b[0mweight\u001b[0m \u001b[0;34m*\u001b[0m \u001b[0mself\u001b[0m\u001b[0;34m.\u001b[0m\u001b[0mword_vec\u001b[0m\u001b[0;34m(\u001b[0m\u001b[0mword\u001b[0m\u001b[0;34m,\u001b[0m \u001b[0muse_norm\u001b[0m\u001b[0;34m=\u001b[0m\u001b[0;32mTrue\u001b[0m\u001b[0;34m)\u001b[0m\u001b[0;34m)\u001b[0m\u001b[0;34m\u001b[0m\u001b[0;34m\u001b[0m\u001b[0m\n\u001b[0m\u001b[1;32m    532\u001b[0m                 \u001b[0;32mif\u001b[0m \u001b[0mword\u001b[0m \u001b[0;32min\u001b[0m \u001b[0mself\u001b[0m\u001b[0;34m.\u001b[0m\u001b[0mvocab\u001b[0m\u001b[0;34m:\u001b[0m\u001b[0;34m\u001b[0m\u001b[0;34m\u001b[0m\u001b[0m\n\u001b[1;32m    533\u001b[0m                     \u001b[0mall_words\u001b[0m\u001b[0;34m.\u001b[0m\u001b[0madd\u001b[0m\u001b[0;34m(\u001b[0m\u001b[0mself\u001b[0m\u001b[0;34m.\u001b[0m\u001b[0mvocab\u001b[0m\u001b[0;34m[\u001b[0m\u001b[0mword\u001b[0m\u001b[0;34m]\u001b[0m\u001b[0;34m.\u001b[0m\u001b[0mindex\u001b[0m\u001b[0;34m)\u001b[0m\u001b[0;34m\u001b[0m\u001b[0;34m\u001b[0m\u001b[0m\n",
            "\u001b[0;32m/usr/local/lib/python3.7/dist-packages/gensim/models/keyedvectors.py\u001b[0m in \u001b[0;36mword_vec\u001b[0;34m(self, word, use_norm)\u001b[0m\n\u001b[1;32m    450\u001b[0m             \u001b[0;32mreturn\u001b[0m \u001b[0mresult\u001b[0m\u001b[0;34m\u001b[0m\u001b[0;34m\u001b[0m\u001b[0m\n\u001b[1;32m    451\u001b[0m         \u001b[0;32melse\u001b[0m\u001b[0;34m:\u001b[0m\u001b[0;34m\u001b[0m\u001b[0;34m\u001b[0m\u001b[0m\n\u001b[0;32m--> 452\u001b[0;31m             \u001b[0;32mraise\u001b[0m \u001b[0mKeyError\u001b[0m\u001b[0;34m(\u001b[0m\u001b[0;34m\"word '%s' not in vocabulary\"\u001b[0m \u001b[0;34m%\u001b[0m \u001b[0mword\u001b[0m\u001b[0;34m)\u001b[0m\u001b[0;34m\u001b[0m\u001b[0;34m\u001b[0m\u001b[0m\n\u001b[0m\u001b[1;32m    453\u001b[0m \u001b[0;34m\u001b[0m\u001b[0m\n\u001b[1;32m    454\u001b[0m     \u001b[0;32mdef\u001b[0m \u001b[0mget_vector\u001b[0m\u001b[0;34m(\u001b[0m\u001b[0mself\u001b[0m\u001b[0;34m,\u001b[0m \u001b[0mword\u001b[0m\u001b[0;34m)\u001b[0m\u001b[0;34m:\u001b[0m\u001b[0;34m\u001b[0m\u001b[0;34m\u001b[0m\u001b[0m\n",
            "\u001b[0;31mKeyError\u001b[0m: \"word 'src' not in vocabulary\""
          ]
        }
      ]
    },
    {
      "cell_type": "code",
      "metadata": {
        "colab": {
          "base_uri": "https://localhost:8080/",
          "height": 311
        },
        "id": "WPtjEIydzoWw",
        "outputId": "1c3a56c8-a5cc-41c4-9373-0181243a23e1"
      },
      "source": [
        " thrones2vec.wv.most_similar(\"drawing.jpg\") "
      ],
      "execution_count": 47,
      "outputs": [
        {
          "output_type": "error",
          "ename": "KeyError",
          "evalue": "ignored",
          "traceback": [
            "\u001b[0;31m---------------------------------------------------------------------------\u001b[0m",
            "\u001b[0;31mKeyError\u001b[0m                                  Traceback (most recent call last)",
            "\u001b[0;32m<ipython-input-47-784763594c92>\u001b[0m in \u001b[0;36m<module>\u001b[0;34m()\u001b[0m\n\u001b[0;32m----> 1\u001b[0;31m \u001b[0mthrones2vec\u001b[0m\u001b[0;34m.\u001b[0m\u001b[0mwv\u001b[0m\u001b[0;34m.\u001b[0m\u001b[0mmost_similar\u001b[0m\u001b[0;34m(\u001b[0m\u001b[0;34m\"drawing.jpg\"\u001b[0m\u001b[0;34m)\u001b[0m\u001b[0;34m\u001b[0m\u001b[0;34m\u001b[0m\u001b[0m\n\u001b[0m",
            "\u001b[0;32m/usr/local/lib/python3.7/dist-packages/gensim/models/keyedvectors.py\u001b[0m in \u001b[0;36mmost_similar\u001b[0;34m(self, positive, negative, topn, restrict_vocab, indexer)\u001b[0m\n\u001b[1;32m    529\u001b[0m                 \u001b[0mmean\u001b[0m\u001b[0;34m.\u001b[0m\u001b[0mappend\u001b[0m\u001b[0;34m(\u001b[0m\u001b[0mweight\u001b[0m \u001b[0;34m*\u001b[0m \u001b[0mword\u001b[0m\u001b[0;34m)\u001b[0m\u001b[0;34m\u001b[0m\u001b[0;34m\u001b[0m\u001b[0m\n\u001b[1;32m    530\u001b[0m             \u001b[0;32melse\u001b[0m\u001b[0;34m:\u001b[0m\u001b[0;34m\u001b[0m\u001b[0;34m\u001b[0m\u001b[0m\n\u001b[0;32m--> 531\u001b[0;31m                 \u001b[0mmean\u001b[0m\u001b[0;34m.\u001b[0m\u001b[0mappend\u001b[0m\u001b[0;34m(\u001b[0m\u001b[0mweight\u001b[0m \u001b[0;34m*\u001b[0m \u001b[0mself\u001b[0m\u001b[0;34m.\u001b[0m\u001b[0mword_vec\u001b[0m\u001b[0;34m(\u001b[0m\u001b[0mword\u001b[0m\u001b[0;34m,\u001b[0m \u001b[0muse_norm\u001b[0m\u001b[0;34m=\u001b[0m\u001b[0;32mTrue\u001b[0m\u001b[0;34m)\u001b[0m\u001b[0;34m)\u001b[0m\u001b[0;34m\u001b[0m\u001b[0;34m\u001b[0m\u001b[0m\n\u001b[0m\u001b[1;32m    532\u001b[0m                 \u001b[0;32mif\u001b[0m \u001b[0mword\u001b[0m \u001b[0;32min\u001b[0m \u001b[0mself\u001b[0m\u001b[0;34m.\u001b[0m\u001b[0mvocab\u001b[0m\u001b[0;34m:\u001b[0m\u001b[0;34m\u001b[0m\u001b[0;34m\u001b[0m\u001b[0m\n\u001b[1;32m    533\u001b[0m                     \u001b[0mall_words\u001b[0m\u001b[0;34m.\u001b[0m\u001b[0madd\u001b[0m\u001b[0;34m(\u001b[0m\u001b[0mself\u001b[0m\u001b[0;34m.\u001b[0m\u001b[0mvocab\u001b[0m\u001b[0;34m[\u001b[0m\u001b[0mword\u001b[0m\u001b[0;34m]\u001b[0m\u001b[0;34m.\u001b[0m\u001b[0mindex\u001b[0m\u001b[0;34m)\u001b[0m\u001b[0;34m\u001b[0m\u001b[0;34m\u001b[0m\u001b[0m\n",
            "\u001b[0;32m/usr/local/lib/python3.7/dist-packages/gensim/models/keyedvectors.py\u001b[0m in \u001b[0;36mword_vec\u001b[0;34m(self, word, use_norm)\u001b[0m\n\u001b[1;32m    450\u001b[0m             \u001b[0;32mreturn\u001b[0m \u001b[0mresult\u001b[0m\u001b[0;34m\u001b[0m\u001b[0;34m\u001b[0m\u001b[0m\n\u001b[1;32m    451\u001b[0m         \u001b[0;32melse\u001b[0m\u001b[0;34m:\u001b[0m\u001b[0;34m\u001b[0m\u001b[0;34m\u001b[0m\u001b[0m\n\u001b[0;32m--> 452\u001b[0;31m             \u001b[0;32mraise\u001b[0m \u001b[0mKeyError\u001b[0m\u001b[0;34m(\u001b[0m\u001b[0;34m\"word '%s' not in vocabulary\"\u001b[0m \u001b[0;34m%\u001b[0m \u001b[0mword\u001b[0m\u001b[0;34m)\u001b[0m\u001b[0;34m\u001b[0m\u001b[0;34m\u001b[0m\u001b[0m\n\u001b[0m\u001b[1;32m    453\u001b[0m \u001b[0;34m\u001b[0m\u001b[0m\n\u001b[1;32m    454\u001b[0m     \u001b[0;32mdef\u001b[0m \u001b[0mget_vector\u001b[0m\u001b[0;34m(\u001b[0m\u001b[0mself\u001b[0m\u001b[0;34m,\u001b[0m \u001b[0mword\u001b[0m\u001b[0;34m)\u001b[0m\u001b[0;34m:\u001b[0m\u001b[0;34m\u001b[0m\u001b[0;34m\u001b[0m\u001b[0m\n",
            "\u001b[0;31mKeyError\u001b[0m: \"word 'drawing.jpg' not in vocabulary\""
          ]
        }
      ]
    },
    {
      "cell_type": "code",
      "metadata": {
        "colab": {
          "base_uri": "https://localhost:8080/",
          "height": 311
        },
        "id": "JYNZVax1ztzH",
        "outputId": "a18c4e44-b1b9-459e-8f1b-7f492c2946e6"
      },
      "source": [
        " thrones2vec.wv.most_similar(\"alt\") "
      ],
      "execution_count": 49,
      "outputs": [
        {
          "output_type": "error",
          "ename": "KeyError",
          "evalue": "ignored",
          "traceback": [
            "\u001b[0;31m---------------------------------------------------------------------------\u001b[0m",
            "\u001b[0;31mKeyError\u001b[0m                                  Traceback (most recent call last)",
            "\u001b[0;32m<ipython-input-49-ce3b43566d0a>\u001b[0m in \u001b[0;36m<module>\u001b[0;34m()\u001b[0m\n\u001b[0;32m----> 1\u001b[0;31m \u001b[0mthrones2vec\u001b[0m\u001b[0;34m.\u001b[0m\u001b[0mwv\u001b[0m\u001b[0;34m.\u001b[0m\u001b[0mmost_similar\u001b[0m\u001b[0;34m(\u001b[0m\u001b[0;34m\"alt\"\u001b[0m\u001b[0;34m)\u001b[0m\u001b[0;34m\u001b[0m\u001b[0;34m\u001b[0m\u001b[0m\n\u001b[0m",
            "\u001b[0;32m/usr/local/lib/python3.7/dist-packages/gensim/models/keyedvectors.py\u001b[0m in \u001b[0;36mmost_similar\u001b[0;34m(self, positive, negative, topn, restrict_vocab, indexer)\u001b[0m\n\u001b[1;32m    529\u001b[0m                 \u001b[0mmean\u001b[0m\u001b[0;34m.\u001b[0m\u001b[0mappend\u001b[0m\u001b[0;34m(\u001b[0m\u001b[0mweight\u001b[0m \u001b[0;34m*\u001b[0m \u001b[0mword\u001b[0m\u001b[0;34m)\u001b[0m\u001b[0;34m\u001b[0m\u001b[0;34m\u001b[0m\u001b[0m\n\u001b[1;32m    530\u001b[0m             \u001b[0;32melse\u001b[0m\u001b[0;34m:\u001b[0m\u001b[0;34m\u001b[0m\u001b[0;34m\u001b[0m\u001b[0m\n\u001b[0;32m--> 531\u001b[0;31m                 \u001b[0mmean\u001b[0m\u001b[0;34m.\u001b[0m\u001b[0mappend\u001b[0m\u001b[0;34m(\u001b[0m\u001b[0mweight\u001b[0m \u001b[0;34m*\u001b[0m \u001b[0mself\u001b[0m\u001b[0;34m.\u001b[0m\u001b[0mword_vec\u001b[0m\u001b[0;34m(\u001b[0m\u001b[0mword\u001b[0m\u001b[0;34m,\u001b[0m \u001b[0muse_norm\u001b[0m\u001b[0;34m=\u001b[0m\u001b[0;32mTrue\u001b[0m\u001b[0;34m)\u001b[0m\u001b[0;34m)\u001b[0m\u001b[0;34m\u001b[0m\u001b[0;34m\u001b[0m\u001b[0m\n\u001b[0m\u001b[1;32m    532\u001b[0m                 \u001b[0;32mif\u001b[0m \u001b[0mword\u001b[0m \u001b[0;32min\u001b[0m \u001b[0mself\u001b[0m\u001b[0;34m.\u001b[0m\u001b[0mvocab\u001b[0m\u001b[0;34m:\u001b[0m\u001b[0;34m\u001b[0m\u001b[0;34m\u001b[0m\u001b[0m\n\u001b[1;32m    533\u001b[0m                     \u001b[0mall_words\u001b[0m\u001b[0;34m.\u001b[0m\u001b[0madd\u001b[0m\u001b[0;34m(\u001b[0m\u001b[0mself\u001b[0m\u001b[0;34m.\u001b[0m\u001b[0mvocab\u001b[0m\u001b[0;34m[\u001b[0m\u001b[0mword\u001b[0m\u001b[0;34m]\u001b[0m\u001b[0;34m.\u001b[0m\u001b[0mindex\u001b[0m\u001b[0;34m)\u001b[0m\u001b[0;34m\u001b[0m\u001b[0;34m\u001b[0m\u001b[0m\n",
            "\u001b[0;32m/usr/local/lib/python3.7/dist-packages/gensim/models/keyedvectors.py\u001b[0m in \u001b[0;36mword_vec\u001b[0;34m(self, word, use_norm)\u001b[0m\n\u001b[1;32m    450\u001b[0m             \u001b[0;32mreturn\u001b[0m \u001b[0mresult\u001b[0m\u001b[0;34m\u001b[0m\u001b[0;34m\u001b[0m\u001b[0m\n\u001b[1;32m    451\u001b[0m         \u001b[0;32melse\u001b[0m\u001b[0;34m:\u001b[0m\u001b[0;34m\u001b[0m\u001b[0;34m\u001b[0m\u001b[0m\n\u001b[0;32m--> 452\u001b[0;31m             \u001b[0;32mraise\u001b[0m \u001b[0mKeyError\u001b[0m\u001b[0;34m(\u001b[0m\u001b[0;34m\"word '%s' not in vocabulary\"\u001b[0m \u001b[0;34m%\u001b[0m \u001b[0mword\u001b[0m\u001b[0;34m)\u001b[0m\u001b[0;34m\u001b[0m\u001b[0;34m\u001b[0m\u001b[0m\n\u001b[0m\u001b[1;32m    453\u001b[0m \u001b[0;34m\u001b[0m\u001b[0m\n\u001b[1;32m    454\u001b[0m     \u001b[0;32mdef\u001b[0m \u001b[0mget_vector\u001b[0m\u001b[0;34m(\u001b[0m\u001b[0mself\u001b[0m\u001b[0;34m,\u001b[0m \u001b[0mword\u001b[0m\u001b[0;34m)\u001b[0m\u001b[0;34m:\u001b[0m\u001b[0;34m\u001b[0m\u001b[0;34m\u001b[0m\u001b[0m\n",
            "\u001b[0;31mKeyError\u001b[0m: \"word 'alt' not in vocabulary\""
          ]
        }
      ]
    },
    {
      "cell_type": "code",
      "metadata": {
        "colab": {
          "base_uri": "https://localhost:8080/"
        },
        "id": "8iMrYcBi4pSg",
        "outputId": "e1d2c688-51e7-4730-cc5f-3d5a8b782c06"
      },
      "source": [
        "\n",
        "! pip freeze -r req.txt"
      ],
      "execution_count": 54,
      "outputs": [
        {
          "output_type": "stream",
          "name": "stdout",
          "text": [
            "## The following requirements were added by pip freeze:\n",
            "absl-py==0.12.0\n",
            "alabaster==0.7.12\n",
            "albumentations==0.1.12\n",
            "altair==4.1.0\n",
            "appdirs==1.4.4\n",
            "argcomplete==1.12.3\n",
            "argon2-cffi==21.1.0\n",
            "arviz==0.11.4\n",
            "astor==0.8.1\n",
            "astropy==4.3.1\n",
            "astunparse==1.6.3\n",
            "atari-py==0.2.9\n",
            "atomicwrites==1.4.0\n",
            "attrs==21.2.0\n",
            "audioread==2.1.9\n",
            "autograd==1.3\n",
            "Babel==2.9.1\n",
            "backcall==0.2.0\n",
            "beautifulsoup4==4.6.3\n",
            "bleach==4.1.0\n",
            "blis==0.4.1\n",
            "bokeh==2.3.3\n",
            "Bottleneck==1.3.2\n",
            "branca==0.4.2\n",
            "bs4==0.0.1\n",
            "CacheControl==0.12.6\n",
            "cached-property==1.5.2\n",
            "cachetools==4.2.4\n",
            "catalogue==1.0.0\n",
            "certifi==2021.5.30\n",
            "cffi==1.14.6\n",
            "cftime==1.5.1\n",
            "chardet==3.0.4\n",
            "charset-normalizer==2.0.7\n",
            "clang==5.0\n",
            "click==7.1.2\n",
            "cloudpickle==1.3.0\n",
            "cmake==3.12.0\n",
            "cmdstanpy==0.9.5\n",
            "colorcet==2.0.6\n",
            "colorlover==0.3.0\n",
            "community==1.0.0b1\n",
            "contextlib2==0.5.5\n",
            "convertdate==2.3.2\n",
            "coverage==3.7.1\n",
            "coveralls==0.5\n",
            "crcmod==1.7\n",
            "cufflinks==0.17.3\n",
            "cvxopt==1.2.7\n",
            "cvxpy==1.0.31\n",
            "cycler==0.10.0\n",
            "cymem==2.0.5\n",
            "Cython==0.29.24\n",
            "daft==0.0.4\n",
            "dask==2.12.0\n",
            "datascience==0.10.6\n",
            "debugpy==1.0.0\n",
            "decorator==4.4.2\n",
            "defusedxml==0.7.1\n",
            "descartes==1.1.0\n",
            "dill==0.3.4\n",
            "distributed==1.25.3\n",
            "dlib @ file:///dlib-19.18.0-cp37-cp37m-linux_x86_64.whl\n",
            "dm-tree==0.1.6\n",
            "docopt==0.6.2\n",
            "docutils==0.17.1\n",
            "dopamine-rl==1.0.5\n",
            "earthengine-api==0.1.284\n",
            "easydict==1.9\n",
            "ecos==2.0.7.post1\n",
            "editdistance==0.5.3\n",
            "en-core-web-sm @ https://github.com/explosion/spacy-models/releases/download/en_core_web_sm-2.2.5/en_core_web_sm-2.2.5.tar.gz\n",
            "entrypoints==0.3\n",
            "ephem==4.1\n",
            "et-xmlfile==1.1.0\n",
            "fa2==0.3.5\n",
            "fastai==1.0.61\n",
            "fastdtw==0.3.4\n",
            "fastprogress==1.0.0\n",
            "fastrlock==0.6\n",
            "fbprophet==0.7.1\n",
            "feather-format==0.4.1\n",
            "filelock==3.3.0\n",
            "firebase-admin==4.4.0\n",
            "fix-yahoo-finance==0.0.22\n",
            "Flask==1.1.4\n",
            "flatbuffers==1.12\n",
            "folium==0.8.3\n",
            "future==0.16.0\n",
            "gast==0.4.0\n",
            "GDAL==2.2.2\n",
            "gdown==3.6.4\n",
            "gensim==3.6.0\n",
            "geographiclib==1.52\n",
            "geopy==1.17.0\n",
            "gin-config==0.4.0\n",
            "glob2==0.7\n",
            "google==2.0.3\n",
            "google-api-core==1.26.3\n",
            "google-api-python-client==1.12.8\n",
            "google-auth==1.35.0\n",
            "google-auth-httplib2==0.0.4\n",
            "google-auth-oauthlib==0.4.6\n",
            "google-cloud-bigquery==1.21.0\n",
            "google-cloud-bigquery-storage==1.1.0\n",
            "google-cloud-core==1.0.3\n",
            "google-cloud-datastore==1.8.0\n",
            "google-cloud-firestore==1.7.0\n",
            "google-cloud-language==1.2.0\n",
            "google-cloud-storage==1.18.1\n",
            "google-cloud-translate==1.5.0\n",
            "google-colab @ file:///colabtools/dist/google-colab-1.0.0.tar.gz\n",
            "google-pasta==0.2.0\n",
            "google-resumable-media==0.4.1\n",
            "googleapis-common-protos==1.53.0\n",
            "googledrivedownloader==0.4\n",
            "graphviz==0.10.1\n",
            "greenlet==1.1.2\n",
            "grpcio==1.41.0\n",
            "gspread==3.0.1\n",
            "gspread-dataframe==3.0.8\n",
            "gym==0.17.3\n",
            "h5py==3.1.0\n",
            "HeapDict==1.0.1\n",
            "hijri-converter==2.2.2\n",
            "holidays==0.10.5.2\n",
            "holoviews==1.14.6\n",
            "html5lib==1.0.1\n",
            "httpimport==0.5.18\n",
            "httplib2==0.17.4\n",
            "httplib2shim==0.0.3\n",
            "humanize==0.5.1\n",
            "hyperopt==0.1.2\n",
            "ideep4py==2.0.0.post3\n",
            "idna==2.10\n",
            "imageio==2.4.1\n",
            "imagesize==1.2.0\n",
            "imbalanced-learn==0.4.3\n",
            "imblearn==0.0\n",
            "imgaug==0.2.9\n",
            "importlib-metadata==4.8.1\n",
            "importlib-resources==5.2.2\n",
            "imutils==0.5.4\n",
            "inflect==2.1.0\n",
            "iniconfig==1.1.1\n",
            "intel-openmp==2021.4.0\n",
            "intervaltree==2.1.0\n",
            "ipykernel==4.10.1\n",
            "ipython==5.5.0\n",
            "ipython-genutils==0.2.0\n",
            "ipython-sql==0.3.9\n",
            "ipywidgets==7.6.5\n",
            "itsdangerous==1.1.0\n",
            "jax==0.2.21\n",
            "jaxlib @ https://storage.googleapis.com/jax-releases/cuda111/jaxlib-0.1.71+cuda111-cp37-none-manylinux2010_x86_64.whl\n",
            "jdcal==1.4.1\n",
            "jedi==0.18.0\n",
            "jieba==0.42.1\n",
            "Jinja2==2.11.3\n",
            "joblib==1.0.1\n",
            "jpeg4py==0.1.4\n",
            "jsonschema==2.6.0\n",
            "jupyter==1.0.0\n",
            "jupyter-client==5.3.5\n",
            "jupyter-console==5.2.0\n",
            "jupyter-core==4.8.1\n",
            "jupyterlab-pygments==0.1.2\n",
            "jupyterlab-widgets==1.0.2\n",
            "kaggle==1.5.12\n",
            "kapre==0.3.5\n",
            "keras==2.6.0\n",
            "Keras-Preprocessing==1.1.2\n",
            "keras-vis==0.4.1\n",
            "kiwisolver==1.3.2\n",
            "korean-lunar-calendar==0.2.1\n",
            "librosa==0.8.1\n",
            "lightgbm==2.2.3\n",
            "llvmlite==0.34.0\n",
            "lmdb==0.99\n",
            "LunarCalendar==0.0.9\n",
            "lxml==4.2.6\n",
            "Markdown==3.3.4\n",
            "MarkupSafe==2.0.1\n",
            "matplotlib==3.2.2\n",
            "matplotlib-inline==0.1.3\n",
            "matplotlib-venn==0.11.6\n",
            "missingno==0.5.0\n",
            "mistune==0.8.4\n",
            "mizani==0.6.0\n",
            "mkl==2019.0\n",
            "mlxtend==0.14.0\n",
            "more-itertools==8.10.0\n",
            "moviepy==0.2.3.5\n",
            "mpmath==1.2.1\n",
            "msgpack==1.0.2\n",
            "multiprocess==0.70.12.2\n",
            "multitasking==0.0.9\n",
            "murmurhash==1.0.5\n",
            "music21==5.5.0\n",
            "natsort==5.5.0\n",
            "nbclient==0.5.4\n",
            "nbconvert==5.6.1\n",
            "nbformat==5.1.3\n",
            "nest-asyncio==1.5.1\n",
            "netCDF4==1.5.7\n",
            "networkx==2.6.3\n",
            "nibabel==3.0.2\n",
            "nltk==3.2.5\n",
            "notebook==5.3.1\n",
            "numba==0.51.2\n",
            "numexpr==2.7.3\n",
            "numpy==1.19.5\n",
            "nvidia-ml-py3==7.352.0\n",
            "oauth2client==4.1.3\n",
            "oauthlib==3.1.1\n",
            "okgrade==0.4.3\n",
            "opencv-contrib-python==4.1.2.30\n",
            "opencv-python==4.1.2.30\n",
            "openpyxl==2.5.9\n",
            "opt-einsum==3.3.0\n",
            "osqp==0.6.2.post0\n",
            "packaging==21.0\n",
            "palettable==3.3.0\n",
            "pandas==1.1.5\n",
            "pandas-datareader==0.9.0\n",
            "pandas-gbq==0.13.3\n",
            "pandas-profiling==1.4.1\n",
            "pandocfilters==1.5.0\n",
            "panel==0.12.1\n",
            "param==1.11.1\n",
            "parso==0.8.2\n",
            "pathlib==1.0.1\n",
            "patsy==0.5.2\n",
            "pep517==0.11.0\n",
            "pexpect==4.8.0\n",
            "pickleshare==0.7.5\n",
            "Pillow==7.1.2\n",
            "pip-tools==6.2.0\n",
            "plac==1.1.3\n",
            "plotly==4.4.1\n",
            "plotnine==0.6.0\n",
            "pluggy==0.7.1\n",
            "pooch==1.5.1\n",
            "portpicker==1.3.9\n",
            "prefetch-generator==1.0.1\n",
            "preshed==3.0.5\n",
            "prettytable==2.2.1\n",
            "progressbar2==3.38.0\n",
            "prometheus-client==0.12.0\n",
            "promise==2.3\n",
            "prompt-toolkit==1.0.18\n",
            "protobuf==3.17.3\n",
            "psutil==5.4.8\n",
            "psycopg2==2.7.6.1\n",
            "ptyprocess==0.7.0\n",
            "py==1.10.0\n",
            "pyarrow==3.0.0\n",
            "pyasn1==0.4.8\n",
            "pyasn1-modules==0.2.8\n",
            "pycocotools==2.0.2\n",
            "pycparser==2.20\n",
            "pyct==0.4.8\n",
            "pydata-google-auth==1.2.0\n",
            "pydot==1.3.0\n",
            "pydot-ng==2.0.0\n",
            "pydotplus==2.0.2\n",
            "PyDrive==1.3.1\n",
            "pyemd==0.5.1\n",
            "pyerfa==2.0.0\n",
            "pyglet==1.5.0\n",
            "Pygments==2.6.1\n",
            "pygobject==3.26.1\n",
            "pymc3==3.11.4\n",
            "PyMeeus==0.5.11\n",
            "pymongo==3.12.0\n",
            "pymystem3==0.2.0\n",
            "PyOpenGL==3.1.5\n",
            "pyparsing==2.4.7\n",
            "pyrsistent==0.18.0\n",
            "pysndfile==1.3.8\n",
            "PySocks==1.7.1\n",
            "pystan==2.19.1.1\n",
            "pytest==3.6.4\n",
            "python-apt==0.0.0\n",
            "python-chess==0.23.11\n",
            "python-dateutil==2.8.2\n",
            "python-louvain==0.15\n",
            "python-slugify==5.0.2\n",
            "python-utils==2.5.6\n",
            "pytz==2018.9\n",
            "pyviz-comms==2.1.0\n",
            "PyWavelets==1.1.1\n",
            "PyYAML==3.13\n",
            "pyzmq==22.3.0\n",
            "qdldl==0.1.5.post0\n",
            "qtconsole==5.1.1\n",
            "QtPy==1.11.2\n",
            "regex==2019.12.20\n",
            "requests==2.23.0\n",
            "requests-oauthlib==1.3.0\n",
            "resampy==0.2.2\n",
            "retrying==1.3.3\n",
            "rpy2==3.4.5\n",
            "rsa==4.7.2\n",
            "scikit-image==0.16.2\n",
            "scikit-learn==0.22.2.post1\n",
            "scipy==1.4.1\n",
            "screen-resolution-extra==0.0.0\n",
            "scs==2.1.4\n",
            "seaborn==0.11.2\n",
            "semver==2.13.0\n",
            "Send2Trash==1.8.0\n",
            "setuptools-git==1.2\n",
            "Shapely==1.7.1\n",
            "simplegeneric==0.8.1\n",
            "six==1.15.0\n",
            "sklearn==0.0\n",
            "sklearn-pandas==1.8.0\n",
            "smart-open==5.2.1\n",
            "snowballstemmer==2.1.0\n",
            "sortedcontainers==2.4.0\n",
            "SoundFile==0.10.3.post1\n",
            "spacy==2.2.4\n",
            "Sphinx==1.8.5\n",
            "sphinxcontrib-serializinghtml==1.1.5\n",
            "sphinxcontrib-websupport==1.2.4\n",
            "SQLAlchemy==1.4.25\n",
            "sqlparse==0.4.2\n",
            "srsly==1.0.5\n",
            "statsmodels==0.10.2\n",
            "sympy==1.7.1\n",
            "tables==3.4.4\n",
            "tabulate==0.8.9\n",
            "tblib==1.7.0\n",
            "tensorboard==2.6.0\n",
            "tensorboard-data-server==0.6.1\n",
            "tensorboard-plugin-wit==1.8.0\n",
            "tensorflow @ file:///tensorflow-2.6.0-cp37-cp37m-linux_x86_64.whl\n",
            "tensorflow-datasets==4.0.1\n",
            "tensorflow-estimator==2.6.0\n",
            "tensorflow-gcs-config==2.6.0\n",
            "tensorflow-hub==0.12.0\n",
            "tensorflow-metadata==1.2.0\n",
            "tensorflow-probability==0.14.1\n",
            "termcolor==1.1.0\n",
            "terminado==0.12.1\n",
            "testpath==0.5.0\n",
            "text-unidecode==1.3\n",
            "textblob==0.15.3\n",
            "Theano-PyMC==1.1.2\n",
            "thinc==7.4.0\n",
            "tifffile==2021.10.12\n",
            "toml==0.10.2\n",
            "tomli==1.2.1\n",
            "toolz==0.11.1\n",
            "torch @ https://download.pytorch.org/whl/cu111/torch-1.9.0%2Bcu111-cp37-cp37m-linux_x86_64.whl\n",
            "torchsummary==1.5.1\n",
            "torchtext==0.10.0\n",
            "torchvision @ https://download.pytorch.org/whl/cu111/torchvision-0.10.0%2Bcu111-cp37-cp37m-linux_x86_64.whl\n",
            "tornado==5.1.1\n",
            "tqdm==4.62.3\n",
            "traitlets==5.1.0\n",
            "tweepy==3.10.0\n",
            "typeguard==2.7.1\n",
            "typing-extensions==3.7.4.3\n",
            "tzlocal==1.5.1\n",
            "uritemplate==3.0.1\n",
            "urllib3==1.24.3\n",
            "vega-datasets==0.9.0\n",
            "wasabi==0.8.2\n",
            "wcwidth==0.2.5\n",
            "webencodings==0.5.1\n",
            "Werkzeug==1.0.1\n",
            "widgetsnbextension==3.5.1\n",
            "wordcloud==1.5.0\n",
            "wrapt==1.12.1\n",
            "xarray==0.18.2\n",
            "xgboost==0.90\n",
            "xkit==0.0.0\n",
            "xlrd==1.1.0\n",
            "xlwt==1.3.0\n",
            "yellowbrick==0.9.1\n",
            "zict==2.0.0\n",
            "zipp==3.6.0\n"
          ]
        }
      ]
    },
    {
      "cell_type": "code",
      "metadata": {
        "id": "zIgmhRB00MCs"
      },
      "source": [
        "points.to_csv(\"/content/final.csv\")\n"
      ],
      "execution_count": 52,
      "outputs": []
    }
  ]
}